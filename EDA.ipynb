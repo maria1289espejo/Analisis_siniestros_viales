{
 "cells": [
  {
   "cell_type": "markdown",
   "metadata": {},
   "source": [
    "# Análisis exploratorio de datos - EDA"
   ]
  },
  {
   "cell_type": "markdown",
   "metadata": {},
   "source": [
    "## Datos iniciales"
   ]
  },
  {
   "cell_type": "markdown",
   "metadata": {},
   "source": [
    "Los datos a analizar corresponden a las víctimas mortales de accidentes de tránsito ocurridos en la Ciudad de Buenos Aires entre los años 2016 y 2021. Estos datos están divididos en 2 hojas de archivo .xlsx. Una de estas hojas contiene los detalles de los hechos que llevaron a la ocurrencia de los fallecimientos, tales como la cantidad de víctimas, la fecha, la hora y el lugar del accidente. En cambio, la otra hoja proporciona detalles sobre las víctimas mortales, como su edad, sexo, rol en el hecho, fecha de fallecimiento y fecha del accidente. Ambas hojas contienen un código identificador para los accidentes que permite relacionar la información de ambas. De ahora en adelante, nos referiremos a estas hojas como df_hechos y df_victimas, respectivamente."
   ]
  },
  {
   "cell_type": "code",
   "execution_count": 1,
   "metadata": {},
   "outputs": [],
   "source": [
    "# Librerias a utilizar\n",
    "\n",
    "import pandas as pd\n",
    "import numpy as np\n",
    "import seaborn as sns\n",
    "import matplotlib.pyplot as plt\n",
    "import scipy.stats as stats\n",
    "from scipy.stats import chi2_contingency\n",
    "from datetime import datetime\n",
    "import os"
   ]
  },
  {
   "cell_type": "markdown",
   "metadata": {},
   "source": [
    "## Archivos a utilizar"
   ]
  },
  {
   "cell_type": "code",
   "execution_count": 2,
   "metadata": {},
   "outputs": [],
   "source": [
    "# Ruta del archivo\n",
    "ruta_archivo = 'C:/Users/57315/Documentos/Phyton_Henry/proyecto_data/dataset_iniciales/homicidios.xlsx'\n",
    "# Selecciona las hojas de con los datos de interes\n",
    "hoja_hechos = 'HECHOS'\n",
    "hoja_victimas = 'VICTIMAS'\n",
    "# Lee las hojas seleccionadas\n",
    "df_hechos = pd.read_excel(ruta_archivo, sheet_name = hoja_hechos)\n",
    "df_victimas = pd.read_excel(ruta_archivo, sheet_name = hoja_victimas)"
   ]
  },
  {
   "cell_type": "markdown",
   "metadata": {},
   "source": [
    "## Análisis por archivo"
   ]
  },
  {
   "cell_type": "markdown",
   "metadata": {},
   "source": [
    "### df_hechos"
   ]
  },
  {
   "cell_type": "markdown",
   "metadata": {},
   "source": [
    "#### Revisión inicial\n",
    "\n",
    "Este dataframe tiene 21 columnas de las cuales 4 de ellas presentan datos nulos, se revisan estos datos para verificar si se pueden imputar, dejarse como nulos o eliminarse.\n",
    "\n",
    "Las columnas HORA, HH, pos x, pos y, presentan datos tipos object, cuando en realidad son datetime o float, por lo que se cambió el tipo de datos de acuerdo a las características de cada columna."
   ]
  },
  {
   "cell_type": "code",
   "execution_count": 3,
   "metadata": {},
   "outputs": [
    {
     "data": {
      "text/html": [
       "<div>\n",
       "<style scoped>\n",
       "    .dataframe tbody tr th:only-of-type {\n",
       "        vertical-align: middle;\n",
       "    }\n",
       "\n",
       "    .dataframe tbody tr th {\n",
       "        vertical-align: top;\n",
       "    }\n",
       "\n",
       "    .dataframe thead th {\n",
       "        text-align: right;\n",
       "    }\n",
       "</style>\n",
       "<table border=\"1\" class=\"dataframe\">\n",
       "  <thead>\n",
       "    <tr style=\"text-align: right;\">\n",
       "      <th></th>\n",
       "      <th>ID</th>\n",
       "      <th>N_VICTIMAS</th>\n",
       "      <th>FECHA</th>\n",
       "      <th>AAAA</th>\n",
       "      <th>MM</th>\n",
       "      <th>DD</th>\n",
       "      <th>HORA</th>\n",
       "      <th>HH</th>\n",
       "      <th>LUGAR_DEL_HECHO</th>\n",
       "      <th>TIPO_DE_CALLE</th>\n",
       "      <th>...</th>\n",
       "      <th>Altura</th>\n",
       "      <th>Cruce</th>\n",
       "      <th>Dirección Normalizada</th>\n",
       "      <th>COMUNA</th>\n",
       "      <th>XY (CABA)</th>\n",
       "      <th>pos x</th>\n",
       "      <th>pos y</th>\n",
       "      <th>PARTICIPANTES</th>\n",
       "      <th>VICTIMA</th>\n",
       "      <th>ACUSADO</th>\n",
       "    </tr>\n",
       "  </thead>\n",
       "  <tbody>\n",
       "    <tr>\n",
       "      <th>0</th>\n",
       "      <td>2016-0001</td>\n",
       "      <td>1</td>\n",
       "      <td>2016-01-01</td>\n",
       "      <td>2016</td>\n",
       "      <td>1</td>\n",
       "      <td>1</td>\n",
       "      <td>04:00:00</td>\n",
       "      <td>4</td>\n",
       "      <td>AV PIEDRA BUENA Y AV FERNANDEZ DE LA CRUZ</td>\n",
       "      <td>AVENIDA</td>\n",
       "      <td>...</td>\n",
       "      <td>NaN</td>\n",
       "      <td>FERNANDEZ DE LA CRUZ, F., GRAL. AV.</td>\n",
       "      <td>PIEDRA BUENA AV. y FERNANDEZ DE LA CRUZ, F., G...</td>\n",
       "      <td>8</td>\n",
       "      <td>Point (98896.78238426 93532.43437792)</td>\n",
       "      <td>-58.47533969</td>\n",
       "      <td>-34.68757022</td>\n",
       "      <td>MOTO-AUTO</td>\n",
       "      <td>MOTO</td>\n",
       "      <td>AUTO</td>\n",
       "    </tr>\n",
       "    <tr>\n",
       "      <th>1</th>\n",
       "      <td>2016-0002</td>\n",
       "      <td>1</td>\n",
       "      <td>2016-01-02</td>\n",
       "      <td>2016</td>\n",
       "      <td>1</td>\n",
       "      <td>2</td>\n",
       "      <td>01:15:00</td>\n",
       "      <td>1</td>\n",
       "      <td>AV GRAL PAZ  Y AV DE LOS CORRALES</td>\n",
       "      <td>GRAL PAZ</td>\n",
       "      <td>...</td>\n",
       "      <td>NaN</td>\n",
       "      <td>DE LOS CORRALES AV.</td>\n",
       "      <td>PAZ, GRAL. AV. y DE LOS CORRALES AV.</td>\n",
       "      <td>9</td>\n",
       "      <td>Point (95832.05571093 95505.41641999)</td>\n",
       "      <td>-58.50877521</td>\n",
       "      <td>-34.66977709</td>\n",
       "      <td>AUTO-PASAJEROS</td>\n",
       "      <td>AUTO</td>\n",
       "      <td>PASAJEROS</td>\n",
       "    </tr>\n",
       "    <tr>\n",
       "      <th>2</th>\n",
       "      <td>2016-0003</td>\n",
       "      <td>1</td>\n",
       "      <td>2016-01-03</td>\n",
       "      <td>2016</td>\n",
       "      <td>1</td>\n",
       "      <td>3</td>\n",
       "      <td>07:00:00</td>\n",
       "      <td>7</td>\n",
       "      <td>AV ENTRE RIOS 2034</td>\n",
       "      <td>AVENIDA</td>\n",
       "      <td>...</td>\n",
       "      <td>2034.0</td>\n",
       "      <td>NaN</td>\n",
       "      <td>ENTRE RIOS AV. 2034</td>\n",
       "      <td>1</td>\n",
       "      <td>Point (106684.29090040 99706.57687843)</td>\n",
       "      <td>-58.39040293</td>\n",
       "      <td>-34.63189362</td>\n",
       "      <td>MOTO-AUTO</td>\n",
       "      <td>MOTO</td>\n",
       "      <td>AUTO</td>\n",
       "    </tr>\n",
       "    <tr>\n",
       "      <th>3</th>\n",
       "      <td>2016-0004</td>\n",
       "      <td>1</td>\n",
       "      <td>2016-01-10</td>\n",
       "      <td>2016</td>\n",
       "      <td>1</td>\n",
       "      <td>10</td>\n",
       "      <td>00:00:00</td>\n",
       "      <td>0</td>\n",
       "      <td>AV LARRAZABAL Y GRAL VILLEGAS CONRADO</td>\n",
       "      <td>AVENIDA</td>\n",
       "      <td>...</td>\n",
       "      <td>NaN</td>\n",
       "      <td>VILLEGAS, CONRADO, GRAL.</td>\n",
       "      <td>LARRAZABAL AV. y VILLEGAS, CONRADO, GRAL.</td>\n",
       "      <td>8</td>\n",
       "      <td>Point (99840.65224780 94269.16534422)</td>\n",
       "      <td>-58.46503904</td>\n",
       "      <td>-34.68092974</td>\n",
       "      <td>MOTO-SD</td>\n",
       "      <td>MOTO</td>\n",
       "      <td>SD</td>\n",
       "    </tr>\n",
       "    <tr>\n",
       "      <th>4</th>\n",
       "      <td>2016-0005</td>\n",
       "      <td>1</td>\n",
       "      <td>2016-01-21</td>\n",
       "      <td>2016</td>\n",
       "      <td>1</td>\n",
       "      <td>21</td>\n",
       "      <td>05:20:00</td>\n",
       "      <td>5</td>\n",
       "      <td>AV SAN JUAN Y PRESIDENTE LUIS SAENZ PEÑA</td>\n",
       "      <td>AVENIDA</td>\n",
       "      <td>...</td>\n",
       "      <td>NaN</td>\n",
       "      <td>SAENZ PE?A, LUIS, PRES.</td>\n",
       "      <td>SAN JUAN AV. y SAENZ PEÃ‘A, LUIS, PRES.</td>\n",
       "      <td>1</td>\n",
       "      <td>Point (106980.32827929 100752.16915795)</td>\n",
       "      <td>-58.38718297</td>\n",
       "      <td>-34.62246630</td>\n",
       "      <td>MOTO-PASAJEROS</td>\n",
       "      <td>MOTO</td>\n",
       "      <td>PASAJEROS</td>\n",
       "    </tr>\n",
       "  </tbody>\n",
       "</table>\n",
       "<p>5 rows × 21 columns</p>\n",
       "</div>"
      ],
      "text/plain": [
       "          ID  N_VICTIMAS      FECHA  AAAA  MM  DD      HORA HH  \\\n",
       "0  2016-0001           1 2016-01-01  2016   1   1  04:00:00  4   \n",
       "1  2016-0002           1 2016-01-02  2016   1   2  01:15:00  1   \n",
       "2  2016-0003           1 2016-01-03  2016   1   3  07:00:00  7   \n",
       "3  2016-0004           1 2016-01-10  2016   1  10  00:00:00  0   \n",
       "4  2016-0005           1 2016-01-21  2016   1  21  05:20:00  5   \n",
       "\n",
       "                             LUGAR_DEL_HECHO TIPO_DE_CALLE  ...  Altura  \\\n",
       "0  AV PIEDRA BUENA Y AV FERNANDEZ DE LA CRUZ       AVENIDA  ...     NaN   \n",
       "1          AV GRAL PAZ  Y AV DE LOS CORRALES      GRAL PAZ  ...     NaN   \n",
       "2                         AV ENTRE RIOS 2034       AVENIDA  ...  2034.0   \n",
       "3      AV LARRAZABAL Y GRAL VILLEGAS CONRADO       AVENIDA  ...     NaN   \n",
       "4  AV SAN JUAN Y PRESIDENTE LUIS SAENZ PEÑA        AVENIDA  ...     NaN   \n",
       "\n",
       "                                 Cruce  \\\n",
       "0  FERNANDEZ DE LA CRUZ, F., GRAL. AV.   \n",
       "1                  DE LOS CORRALES AV.   \n",
       "2                                  NaN   \n",
       "3             VILLEGAS, CONRADO, GRAL.   \n",
       "4              SAENZ PE?A, LUIS, PRES.   \n",
       "\n",
       "                               Dirección Normalizada COMUNA  \\\n",
       "0  PIEDRA BUENA AV. y FERNANDEZ DE LA CRUZ, F., G...      8   \n",
       "1               PAZ, GRAL. AV. y DE LOS CORRALES AV.      9   \n",
       "2                                ENTRE RIOS AV. 2034      1   \n",
       "3          LARRAZABAL AV. y VILLEGAS, CONRADO, GRAL.      8   \n",
       "4            SAN JUAN AV. y SAENZ PEÃ‘A, LUIS, PRES.      1   \n",
       "\n",
       "                                 XY (CABA)         pos x         pos y  \\\n",
       "0    Point (98896.78238426 93532.43437792)  -58.47533969  -34.68757022   \n",
       "1    Point (95832.05571093 95505.41641999)  -58.50877521  -34.66977709   \n",
       "2   Point (106684.29090040 99706.57687843)  -58.39040293  -34.63189362   \n",
       "3    Point (99840.65224780 94269.16534422)  -58.46503904  -34.68092974   \n",
       "4  Point (106980.32827929 100752.16915795)  -58.38718297  -34.62246630   \n",
       "\n",
       "    PARTICIPANTES VICTIMA    ACUSADO  \n",
       "0       MOTO-AUTO    MOTO       AUTO  \n",
       "1  AUTO-PASAJEROS    AUTO  PASAJEROS  \n",
       "2       MOTO-AUTO    MOTO       AUTO  \n",
       "3         MOTO-SD    MOTO         SD  \n",
       "4  MOTO-PASAJEROS    MOTO  PASAJEROS  \n",
       "\n",
       "[5 rows x 21 columns]"
      ]
     },
     "execution_count": 3,
     "metadata": {},
     "output_type": "execute_result"
    }
   ],
   "source": [
    "# Muestra las primeras filas del dataframe\n",
    "df_hechos.head()"
   ]
  },
  {
   "cell_type": "code",
   "execution_count": 4,
   "metadata": {},
   "outputs": [
    {
     "name": "stdout",
     "output_type": "stream",
     "text": [
      "<class 'pandas.core.frame.DataFrame'>\n",
      "RangeIndex: 696 entries, 0 to 695\n",
      "Data columns (total 21 columns):\n",
      " #   Column                 Non-Null Count  Dtype         \n",
      "---  ------                 --------------  -----         \n",
      " 0   ID                     696 non-null    object        \n",
      " 1   N_VICTIMAS             696 non-null    int64         \n",
      " 2   FECHA                  696 non-null    datetime64[ns]\n",
      " 3   AAAA                   696 non-null    int64         \n",
      " 4   MM                     696 non-null    int64         \n",
      " 5   DD                     696 non-null    int64         \n",
      " 6   HORA                   696 non-null    object        \n",
      " 7   HH                     696 non-null    object        \n",
      " 8   LUGAR_DEL_HECHO        696 non-null    object        \n",
      " 9   TIPO_DE_CALLE          696 non-null    object        \n",
      " 10  Calle                  695 non-null    object        \n",
      " 11  Altura                 129 non-null    float64       \n",
      " 12  Cruce                  525 non-null    object        \n",
      " 13  Dirección Normalizada  688 non-null    object        \n",
      " 14  COMUNA                 696 non-null    int64         \n",
      " 15  XY (CABA)              696 non-null    object        \n",
      " 16  pos x                  696 non-null    object        \n",
      " 17  pos y                  696 non-null    object        \n",
      " 18  PARTICIPANTES          696 non-null    object        \n",
      " 19  VICTIMA                696 non-null    object        \n",
      " 20  ACUSADO                696 non-null    object        \n",
      "dtypes: datetime64[ns](1), float64(1), int64(5), object(14)\n",
      "memory usage: 114.3+ KB\n"
     ]
    }
   ],
   "source": [
    "# Brinda información resumida del dataframe\n",
    "df_hechos.info()"
   ]
  },
  {
   "cell_type": "code",
   "execution_count": 5,
   "metadata": {},
   "outputs": [
    {
     "data": {
      "text/plain": [
       "ID                         0\n",
       "N_VICTIMAS                 0\n",
       "FECHA                      0\n",
       "AAAA                       0\n",
       "MM                         0\n",
       "DD                         0\n",
       "HORA                       0\n",
       "HH                         0\n",
       "LUGAR_DEL_HECHO            0\n",
       "TIPO_DE_CALLE              0\n",
       "Calle                      1\n",
       "Altura                   567\n",
       "Cruce                    171\n",
       "Dirección Normalizada      8\n",
       "COMUNA                     0\n",
       "XY (CABA)                  0\n",
       "pos x                      0\n",
       "pos y                      0\n",
       "PARTICIPANTES              0\n",
       "VICTIMA                    0\n",
       "ACUSADO                    0\n",
       "dtype: int64"
      ]
     },
     "execution_count": 5,
     "metadata": {},
     "output_type": "execute_result"
    }
   ],
   "source": [
    "# Cuenta la cantidad de filas con valores nulos en cada columna\n",
    "df_hechos.isnull().sum()"
   ]
  },
  {
   "cell_type": "markdown",
   "metadata": {},
   "source": [
    "##### Revisión de valores nulos"
   ]
  },
  {
   "cell_type": "code",
   "execution_count": 6,
   "metadata": {},
   "outputs": [
    {
     "name": "stdout",
     "output_type": "stream",
     "text": [
      "            ID  N_VICTIMAS      FECHA  AAAA  MM  DD      HORA  HH  \\\n",
      "119  2016-0151           1 2016-11-18  2016  11  18  20:35:00  20   \n",
      "\n",
      "    LUGAR_DEL_HECHO TIPO_DE_CALLE  ... Altura  Cruce Dirección Normalizada  \\\n",
      "119              SD         CALLE  ...    NaN    NaN                   NaN   \n",
      "\n",
      "    COMUNA    XY (CABA) pos x pos y PARTICIPANTES VICTIMA ACUSADO  \n",
      "119      0  Point (. .)     .     .     PEATON-SD  PEATON      SD  \n",
      "\n",
      "[1 rows x 21 columns]\n",
      "119    NaN\n",
      "Name: Calle, dtype: object\n"
     ]
    }
   ],
   "source": [
    "# Muestra las filas con valores nulos en la columna calle\n",
    "nulos_calle = df_hechos[df_hechos['Calle'].isnull()]\n",
    "print(nulos_calle)\n",
    "print(nulos_calle['Calle'])\n"
   ]
  },
  {
   "cell_type": "markdown",
   "metadata": {},
   "source": [
    "Según el diccionario de datos del DataFrame 'hechos', las comunas deben numerarse del 1 al 15. Sin embargo, se identificó que la fila 119 muestra una comuna con el valor 0, el cual no es válido. Además, se observa que las otras columnas que contienen información sobre el lugar del hecho presentan valores nulos en esta fila. Por consiguiente, al no aportar información relevante para el análisis, se ha tomado la decisión de eliminar esta fila."
   ]
  },
  {
   "cell_type": "code",
   "execution_count": 7,
   "metadata": {},
   "outputs": [],
   "source": [
    "# Elimina las filas con valores nulos en la columna calle\n",
    "df_hechos = df_hechos.dropna(subset='Calle')"
   ]
  },
  {
   "cell_type": "code",
   "execution_count": 8,
   "metadata": {},
   "outputs": [
    {
     "name": "stdout",
     "output_type": "stream",
     "text": [
      "          ID  N_VICTIMAS      FECHA  AAAA  MM  DD      HORA HH  \\\n",
      "0  2016-0001           1 2016-01-01  2016   1   1  04:00:00  4   \n",
      "1  2016-0002           1 2016-01-02  2016   1   2  01:15:00  1   \n",
      "3  2016-0004           1 2016-01-10  2016   1  10  00:00:00  0   \n",
      "\n",
      "                             LUGAR_DEL_HECHO TIPO_DE_CALLE  ... Altura  \\\n",
      "0  AV PIEDRA BUENA Y AV FERNANDEZ DE LA CRUZ       AVENIDA  ...    NaN   \n",
      "1          AV GRAL PAZ  Y AV DE LOS CORRALES      GRAL PAZ  ...    NaN   \n",
      "3      AV LARRAZABAL Y GRAL VILLEGAS CONRADO       AVENIDA  ...    NaN   \n",
      "\n",
      "                                 Cruce  \\\n",
      "0  FERNANDEZ DE LA CRUZ, F., GRAL. AV.   \n",
      "1                  DE LOS CORRALES AV.   \n",
      "3             VILLEGAS, CONRADO, GRAL.   \n",
      "\n",
      "                               Dirección Normalizada COMUNA  \\\n",
      "0  PIEDRA BUENA AV. y FERNANDEZ DE LA CRUZ, F., G...      8   \n",
      "1               PAZ, GRAL. AV. y DE LOS CORRALES AV.      9   \n",
      "3          LARRAZABAL AV. y VILLEGAS, CONRADO, GRAL.      8   \n",
      "\n",
      "                               XY (CABA)         pos x         pos y  \\\n",
      "0  Point (98896.78238426 93532.43437792)  -58.47533969  -34.68757022   \n",
      "1  Point (95832.05571093 95505.41641999)  -58.50877521  -34.66977709   \n",
      "3  Point (99840.65224780 94269.16534422)  -58.46503904  -34.68092974   \n",
      "\n",
      "    PARTICIPANTES VICTIMA    ACUSADO  \n",
      "0       MOTO-AUTO    MOTO       AUTO  \n",
      "1  AUTO-PASAJEROS    AUTO  PASAJEROS  \n",
      "3         MOTO-SD    MOTO         SD  \n",
      "\n",
      "[3 rows x 21 columns]\n",
      "0     NaN\n",
      "1     NaN\n",
      "3     NaN\n",
      "4     NaN\n",
      "5     NaN\n",
      "       ..\n",
      "689   NaN\n",
      "690   NaN\n",
      "691   NaN\n",
      "692   NaN\n",
      "693   NaN\n",
      "Name: Altura, Length: 566, dtype: float64\n"
     ]
    }
   ],
   "source": [
    "# Muestra las filas con valores nulos en la columna altura\n",
    "nulos_altura = df_hechos[df_hechos['Altura'].isnull()]\n",
    "print(nulos_altura.head(3))\n",
    "print(nulos_altura['Altura'])"
   ]
  },
  {
   "cell_type": "markdown",
   "metadata": {},
   "source": [
    "Esta columna representa la altura de la calle en la que se produjo el hecho. En varios casos donde este dato aparece como nulo, se observa que la columna 'cruce' tiene un valor no nulo. Por lo tanto, se ha tomado la decisión de reemplazar los valores nulos en la altura por cero. Se considera que la intersección de dos calles proporciona información suficiente para precisar la ubicación del lugar donde ocurrió el hecho.\""
   ]
  },
  {
   "cell_type": "code",
   "execution_count": 9,
   "metadata": {},
   "outputs": [],
   "source": [
    "# Reemplaza los valores nulos de la columna Altura por cero\n",
    "df_hechos['Altura'] = df_hechos['Altura'].fillna(0)"
   ]
  },
  {
   "cell_type": "code",
   "execution_count": 10,
   "metadata": {},
   "outputs": [
    {
     "name": "stdout",
     "output_type": "stream",
     "text": [
      "           ID  N_VICTIMAS      FECHA  AAAA  MM  DD      HORA  HH  \\\n",
      "2   2016-0003           1 2016-01-03  2016   1   3  07:00:00   7   \n",
      "9   2016-0013           1 2016-02-10  2016   2  10  11:30:00  11   \n",
      "14  2016-0020           1 2016-02-17  2016   2  17  16:00:00  16   \n",
      "\n",
      "       LUGAR_DEL_HECHO TIPO_DE_CALLE  ...  Altura  Cruce  \\\n",
      "2   AV ENTRE RIOS 2034       AVENIDA  ...  2034.0    NaN   \n",
      "9   AV ENTRE RIOS 1366       AVENIDA  ...  1366.0    NaN   \n",
      "14        SUIPACHA 156         CALLE  ...   156.0    NaN   \n",
      "\n",
      "   Dirección Normalizada COMUNA                                XY (CABA)  \\\n",
      "2    ENTRE RIOS AV. 2034      1   Point (106684.29090040 99706.57687843)   \n",
      "9    ENTRE RIOS AV. 1366      1  Point (106616.41069662 100496.44662323)   \n",
      "14          SUIPACHA 156      1  Point (107684.31807562 102519.17333314)   \n",
      "\n",
      "           pos x         pos y PARTICIPANTES VICTIMA ACUSADO  \n",
      "2   -58.39040293  -34.63189362     MOTO-AUTO    MOTO    AUTO  \n",
      "9   -58.39114932  -34.62477387   PEATON-AUTO  PEATON    AUTO  \n",
      "14  -58.37952223  -34.60653282   PEATON-AUTO  PEATON    AUTO  \n",
      "\n",
      "[3 rows x 21 columns]\n",
      "2      NaN\n",
      "9      NaN\n",
      "14     NaN\n",
      "33     NaN\n",
      "35     NaN\n",
      "      ... \n",
      "680    NaN\n",
      "685    NaN\n",
      "687    NaN\n",
      "694    NaN\n",
      "695    NaN\n",
      "Name: Cruce, Length: 170, dtype: object\n"
     ]
    }
   ],
   "source": [
    "# Muestra las filas con valores nulos de la columna cruce\n",
    "nulos_cruce = df_hechos[df_hechos['Cruce'].isnull()]\n",
    "print(nulos_cruce.head(3))\n",
    "print(nulos_cruce['Cruce'])"
   ]
  },
  {
   "cell_type": "markdown",
   "metadata": {},
   "source": [
    "Esta columna representa el nombre de una calle en caso de que el hecho se haya dado en la intersección de dos calles. Se observa que varias filas presentan valores nulos en esta columna, pero tienen valores no nulos en la columna 'altura'. Por lo tanto, se ha decidido reemplazar los valores nulos por cero. Se considera que con la información de las columnas 'calle' y 'altura' es suficiente para determinar la ubicación del hecho.\""
   ]
  },
  {
   "cell_type": "code",
   "execution_count": 11,
   "metadata": {},
   "outputs": [],
   "source": [
    "# Reemplaza los valores nulos de la columna Altura por cero\n",
    "df_hechos['Cruce'] = df_hechos['Cruce'].fillna(0)"
   ]
  },
  {
   "cell_type": "code",
   "execution_count": 12,
   "metadata": {},
   "outputs": [
    {
     "name": "stdout",
     "output_type": "stream",
     "text": [
      "            ID  N_VICTIMAS      FECHA  AAAA  MM  DD      HORA  HH  \\\n",
      "38   2016-0052           1 2016-04-20  2016   4  20  20:00:00  20   \n",
      "106  2016-0136           1 2016-10-25  2016  10  25  00:00:00   0   \n",
      "180  2017-0050           2 2017-04-28  2017   4  28  11:08:08  11   \n",
      "181  2017-0051           1 2017-05-01  2017   5   1  03:47:47   3   \n",
      "313  2018-0039           1 2018-04-21  2018   4  21  22:15:00  22   \n",
      "546  2020-0026           1 2020-05-17  2020   5  17  06:40:00   6   \n",
      "621  2021-0023           1 2021-03-01  2021   3   1  09:20:00   9   \n",
      "\n",
      "                             LUGAR_DEL_HECHO TIPO_DE_CALLE  ... Altura  Cruce  \\\n",
      "38                AUTOPISTA LUGONES PK 10000     AUTOPISTA  ...    0.0      0   \n",
      "106         AU BUENOS AIRES - LA PLATA KM. 4     AUTOPISTA  ...    0.0      0   \n",
      "180  AU PERITO MORENO Y RAMAL ENLACE AU1/AU6     AUTOPISTA  ...    0.0      0   \n",
      "181                       AU DELLEPIANE 2400     AUTOPISTA  ...    0.0      0   \n",
      "313                 AUTOPISTA LUGONES KM 4.7     AUTOPISTA  ...    0.0      0   \n",
      "546             LUGONES, LEOPOLDO AV. KM 6,1     AUTOPISTA  ...    0.0      0   \n",
      "621         AU BUENOS AIRES LA PLATA  KM 4,5     AUTOPISTA  ...    0.0      0   \n",
      "\n",
      "    Dirección Normalizada COMUNA    XY (CABA) pos x pos y     PARTICIPANTES  \\\n",
      "38                    NaN     13  Point (. .)     .     .           MOTO-SD   \n",
      "106                   NaN      4  Point (. .)     .     .       MOTO-CARGAS   \n",
      "180                   NaN      9  Point (. .)     .     .       MOTO-CARGAS   \n",
      "181                   NaN      7  Point (. .)     .     .         AUTO-AUTO   \n",
      "313                   NaN     14  Point (. .)     .     .       PEATON-AUTO   \n",
      "546                   NaN     14  Point (. .)     .     .  MOTO-OBJETO FIJO   \n",
      "621                   NaN      4  Point (. .)     .     .       MOTO-CARGAS   \n",
      "\n",
      "    VICTIMA      ACUSADO  \n",
      "38     MOTO           SD  \n",
      "106    MOTO       CARGAS  \n",
      "180    MOTO       CARGAS  \n",
      "181    AUTO         AUTO  \n",
      "313  PEATON         AUTO  \n",
      "546    MOTO  OBJETO FIJO  \n",
      "621    MOTO       CARGAS  \n",
      "\n",
      "[7 rows x 21 columns]\n"
     ]
    }
   ],
   "source": [
    "# Muestra las filas con datos nulos para columna dirección_normalizada\n",
    "nulos_direccion = df_hechos[df_hechos['Dirección Normalizada'].isnull()]\n",
    "print(nulos_direccion)"
   ]
  },
  {
   "cell_type": "markdown",
   "metadata": {},
   "source": [
    "Esta columna representa la dirección del hecho en formato USIG. Las filas que presentan datos nulos en esta columna también muestran valores de cero para las columnas 'altura' y 'cruce', así como la ausencia de caracteres numéricos en las columnas 'XY (CABA)', 'pos x' y 'pos y', que se refieren a la geolocalización, longitud y latitud respectivamente. Debido a esta falta de información, las filas en cuestión no aportan datos relevantes. Por lo tanto, se ha decidido eliminarlas."
   ]
  },
  {
   "cell_type": "code",
   "execution_count": 13,
   "metadata": {},
   "outputs": [],
   "source": [
    "# Elimina las filas con valores nulos en la columna dirección_normalizada\n",
    "df_hechos = df_hechos.dropna(subset = 'Dirección Normalizada')"
   ]
  },
  {
   "cell_type": "markdown",
   "metadata": {},
   "source": [
    "##### Cambio de formato"
   ]
  },
  {
   "cell_type": "code",
   "execution_count": 14,
   "metadata": {},
   "outputs": [],
   "source": [
    "#Cambia el tipo de datos a solo fecha\n",
    "#df_hechos['FECHA'] = pd.to_datetime(df_hechos['FECHA'], errors='coerce')\n",
    "# Extraer solo la parte de la fecha\n",
    "#df_hechos['FECHA'] = df_hechos['FECHA'].dt.date"
   ]
  },
  {
   "cell_type": "code",
   "execution_count": 15,
   "metadata": {},
   "outputs": [],
   "source": [
    "# Cambia la columna hora a formato de tiempo\n",
    "df_hechos['HORA'] = pd.to_datetime(df_hechos['HORA'], format='%H:%M:%S', errors='coerce')\n",
    "# Extrae solo la hora en formato hh:mm:ss\n",
    "df_hechos['HORA'] = df_hechos['HORA'].dt.strftime('%H:%M:%S')"
   ]
  },
  {
   "cell_type": "code",
   "execution_count": 16,
   "metadata": {},
   "outputs": [],
   "source": [
    "# Cambia las columnas a formato numerico\n",
    "df_hechos['HH'] = pd.to_numeric(df_hechos['HH'], downcast='integer', errors='coerce')\n",
    "df_hechos['pos x'] = pd.to_numeric(df_hechos['pos x'], downcast='float', errors='coerce')\n",
    "df_hechos['pos y'] = pd.to_numeric(df_hechos['pos y'], downcast='float', errors='coerce')"
   ]
  },
  {
   "cell_type": "markdown",
   "metadata": {},
   "source": [
    "Durante el proceso de conversión de formato, se identificaron nuevos datos nulos en las columnas 'HORA' y 'HH'. Al examinar esta fila específica en los datos originales, se observó que estos valores faltantes corresponden a 'SD', indicando que no hay datos disponibles. Dado que no es posible imputar estos valores, se ha tomado la decisión de eliminar esta fila, ya que no es factible realizar cálculos con estos datos faltantes."
   ]
  },
  {
   "cell_type": "code",
   "execution_count": 17,
   "metadata": {},
   "outputs": [
    {
     "name": "stdout",
     "output_type": "stream",
     "text": [
      "            ID  N_VICTIMAS      FECHA  AAAA  MM  DD HORA  HH  \\\n",
      "518  2019-0103           1 2019-12-18  2019  12  18  NaN NaN   \n",
      "\n",
      "             LUGAR_DEL_HECHO TIPO_DE_CALLE  ... Altura   Cruce  \\\n",
      "518  PAZ, GRAL. AV. Y GRIVEO      GRAL PAZ  ...    0.0  GRIVEO   \n",
      "\n",
      "       Dirección Normalizada COMUNA                               XY (CABA)  \\\n",
      "518  PAZ, GRAL. AV. y GRIVEO     11  Point (94643.11254058 103831.57115061)   \n",
      "\n",
      "         pos x      pos y  PARTICIPANTES VICTIMA ACUSADO  \n",
      "518 -58.521694 -34.594715      MOTO-MOTO    MOTO    MOTO  \n",
      "\n",
      "[1 rows x 21 columns]\n"
     ]
    }
   ],
   "source": [
    "# Muestra las filas con datos nulos en la columna HH\n",
    "nulos_hh = df_hechos[df_hechos['HH'].isnull()]\n",
    "print(nulos_hh)"
   ]
  },
  {
   "cell_type": "code",
   "execution_count": 18,
   "metadata": {},
   "outputs": [],
   "source": [
    "df_hechos = df_hechos.dropna(subset = 'HH')"
   ]
  },
  {
   "cell_type": "markdown",
   "metadata": {},
   "source": [
    "Se encontraron nuevos valores nulos en las columnas 'pos x' y 'pos y'. Al examinar el contenido de las otras columnas en estas filas, se observó que tanto las columnas 'altura' como 'cruce' tenían valores de cero, mientras que la columna 'xy (CABA)' contenía valores no válidos. Dado que no es posible imputar un valor válido a estas celdas, se ha tomado la decisión de eliminarlas."
   ]
  },
  {
   "cell_type": "code",
   "execution_count": 19,
   "metadata": {},
   "outputs": [
    {
     "name": "stdout",
     "output_type": "stream",
     "text": [
      "            ID  N_VICTIMAS      FECHA  AAAA  MM  DD      HORA    HH  \\\n",
      "139  2016-0174           1 2016-12-27  2016  12  27  00:00:00   0.0   \n",
      "176  2017-0042           1 2017-04-10  2017   4  10  09:00:00   9.0   \n",
      "256  2017-0140           1 2017-11-19  2017  11  19  23:22:17  23.0   \n",
      "559  2020-0039           1 2020-09-01  2020   9   1  19:17:42  19.0   \n",
      "\n",
      "                   LUGAR_DEL_HECHO TIPO_DE_CALLE  ... Altura  Cruce  \\\n",
      "139           AUTOPISTA 25 DE MAYO     AUTOPISTA  ...    0.0      0   \n",
      "176  AV. LEOPOLDO LUGONES PKM 6900      GRAL PAZ  ...    0.0      0   \n",
      "256    AU ARTURO FRONDIZI PKM 3100     AUTOPISTA  ...    0.0      0   \n",
      "559                MURGUIONDO 2700         CALLE  ...    0.0      0   \n",
      "\n",
      "                          Dirección Normalizada COMUNA    XY (CABA) pos x  \\\n",
      "139                        AUTOPISTA 25 DE MAYO      0  Point (. .)   NaN   \n",
      "176                       LUGONES, LEOPOLDO AV.     14  Point (. .)   NaN   \n",
      "256  AUTOPISTA 1 SUR PRESIDENTE ARTURO FRONDIZI      4  Point (. .)   NaN   \n",
      "559                                  MURGUIONDO      9  Point (. .)   NaN   \n",
      "\n",
      "     pos y   PARTICIPANTES VICTIMA    ACUSADO  \n",
      "139    NaN           SD-SD      SD         SD  \n",
      "176    NaN     MOTO-CARGAS    MOTO     CARGAS  \n",
      "256    NaN  MOTO-PASAJEROS    MOTO  PASAJEROS  \n",
      "559    NaN   PEATON-CARGAS  PEATON     CARGAS  \n",
      "\n",
      "[4 rows x 21 columns]\n"
     ]
    }
   ],
   "source": [
    "nulos_pos_x = df_hechos[df_hechos['pos x'].isnull()]\n",
    "print(nulos_pos_x)"
   ]
  },
  {
   "cell_type": "code",
   "execution_count": 20,
   "metadata": {},
   "outputs": [],
   "source": [
    "# Elimina las filas con valores nulos en la columna pos x\n",
    "df_hechos = df_hechos.dropna(subset='pos x')"
   ]
  },
  {
   "cell_type": "code",
   "execution_count": 21,
   "metadata": {},
   "outputs": [],
   "source": [
    "# Cambia el formato de las columnas a enteros\n",
    "df_hechos['HH'] = pd.to_numeric(df_hechos['HH'], downcast='integer')\n",
    "df_hechos['Altura'] = pd.to_numeric(df_hechos['Altura'], downcast='integer')"
   ]
  },
  {
   "cell_type": "markdown",
   "metadata": {},
   "source": [
    "##### Revisión de valores únicos"
   ]
  },
  {
   "cell_type": "code",
   "execution_count": 74,
   "metadata": {},
   "outputs": [
    {
     "data": {
      "text/plain": [
       "array(['2016-0001', '2016-0002', '2016-0003', '2016-0004', '2016-0005',\n",
       "       '2016-0008', '2016-0009', '2016-0010', '2016-0012', '2016-0013',\n",
       "       '2016-0015', '2016-0016', '2016-0017', '2016-0019', '2016-0020',\n",
       "       '2016-0021', '2016-0022', '2016-0025', '2016-0026', '2016-0027',\n",
       "       '2016-0028', '2016-0029', '2016-0031', '2016-0034', '2016-0035',\n",
       "       '2016-0036', '2016-0037', '2016-0038', '2016-0039', '2016-0041',\n",
       "       '2016-0043', '2016-0044', '2016-0045', '2016-0047', '2016-0048',\n",
       "       '2016-0049', '2016-0050', '2016-0051', '2016-0053', '2016-0054',\n",
       "       '2016-0055', '2016-0056', '2016-0058', '2016-0059', '2016-0064',\n",
       "       '2016-0065', '2016-0067', '2016-0068', '2016-0069', '2016-0073',\n",
       "       '2016-0074', '2016-0075', '2016-0076', '2016-0077', '2016-0078',\n",
       "       '2016-0079', '2016-0080', '2016-0081', '2016-0082', '2016-0083',\n",
       "       '2016-0084', '2016-0085', '2016-0086', '2016-0087', '2016-0088',\n",
       "       '2016-0089', '2016-0090', '2016-0092', '2016-0093', '2016-0095',\n",
       "       '2016-0096', '2016-0097', '2016-0098', '2016-0099', '2016-0100',\n",
       "       '2016-0101', '2016-0102', '2016-0104', '2016-0105', '2016-0106',\n",
       "       '2016-0107', '2016-0109', '2016-0110', '2016-0111', '2016-0112',\n",
       "       '2016-0113', '2016-0114', '2016-0115', '2016-0116', '2016-0117',\n",
       "       '2016-0118', '2016-0119', '2016-0122', '2016-0123', '2016-0124',\n",
       "       '2016-0125', '2016-0126', '2016-0127', '2016-0128', '2016-0130',\n",
       "       '2016-0131', '2016-0132', '2016-0133', '2016-0134', '2016-0135',\n",
       "       '2016-0137', '2016-0138', '2016-0139', '2016-0140', '2016-0142',\n",
       "       '2016-0143', '2016-0144', '2016-0145', '2016-0146', '2016-0147',\n",
       "       '2016-0148', '2016-0150', '2016-0152', '2016-0153', '2016-0154',\n",
       "       '2016-0155', '2016-0156', '2016-0157', '2016-0159', '2016-0160',\n",
       "       '2016-0161', '2016-0162', '2016-0163', '2016-0164', '2016-0165',\n",
       "       '2016-0168', '2016-0169', '2016-0170', '2016-0171', '2016-0172',\n",
       "       '2016-0173', '2016-0175', '2016-0176', '2016-0177', '2016-0178',\n",
       "       '2017-0001', '2017-0003', '2017-0007', '2017-0008', '2017-0009',\n",
       "       '2017-0010', '2017-0011', '2017-0012', '2017-0013', '2017-0014',\n",
       "       '2017-0015', '2017-0016', '2017-0017', '2017-0018', '2017-0021',\n",
       "       '2017-0024', '2017-0025', '2017-0026', '2017-0027', '2017-0028',\n",
       "       '2017-0029', '2017-0030', '2017-0031', '2017-0032', '2017-0033',\n",
       "       '2017-0034', '2017-0035', '2017-0036', '2017-0037', '2017-0038',\n",
       "       '2017-0040', '2017-0041', '2017-0045', '2017-0047', '2017-0049',\n",
       "       '2017-0052', '2017-0053', '2017-0054', '2017-0055', '2017-0058',\n",
       "       '2017-0059', '2017-0060', '2017-0061', '2017-0062', '2017-0063',\n",
       "       '2017-0064', '2017-0065', '2017-0066', '2017-0067', '2017-0068',\n",
       "       '2017-0069', '2017-0070', '2017-0072', '2017-0073', '2017-0074',\n",
       "       '2017-0075', '2017-0076', '2017-0077', '2017-0079', '2017-0080',\n",
       "       '2017-0082', '2017-0083', '2017-0084', '2017-0085', '2017-0086',\n",
       "       '2017-0087', '2017-0088', '2017-0089', '2017-0090', '2017-0091',\n",
       "       '2017-0092', '2017-0093', '2017-0094', '2017-0095', '2017-0096',\n",
       "       '2017-0098', '2017-0099', '2017-0100', '2017-0101', '2017-0102',\n",
       "       '2017-0104', '2017-0106', '2017-0107', '2017-0108', '2017-0109',\n",
       "       '2017-0110', '2017-0111', '2017-0112', '2017-0113', '2017-0114',\n",
       "       '2017-0115', '2017-0116', '2017-0118', '2017-0120', '2017-0123',\n",
       "       '2017-0124', '2017-0125', '2017-0126', '2017-0127', '2017-0128',\n",
       "       '2017-0129', '2017-0130', '2017-0132', '2017-0134', '2017-0135',\n",
       "       '2017-0136', '2017-0137', '2017-0138', '2017-0139', '2017-0141',\n",
       "       '2017-0143', '2017-0144', '2017-0145', '2017-0147', '2017-0148',\n",
       "       '2017-0149', '2017-0150', '2017-0151', '2017-0152', '2017-0153',\n",
       "       '2017-0154', '2017-0155', '2017-0157', '2017-0158', '2017-0159',\n",
       "       '2017-0160', '2017-0161', '2018-0001', '2018-0002', '2018-0003',\n",
       "       '2018-0004', '2018-0005', '2018-0006', '2018-0007', '2018-0008',\n",
       "       '2018-0009', '2018-0010', '2018-0011', '2018-0012', '2018-0013',\n",
       "       '2018-0014', '2018-0015', '2018-0016', '2018-0017', '2018-0018',\n",
       "       '2018-0019', '2018-0020', '2018-0021', '2018-0022', '2018-0023',\n",
       "       '2018-0024', '2018-0025', '2018-0026', '2018-0027', '2018-0028',\n",
       "       '2018-0029', '2018-0030', '2018-0031', '2018-0032', '2018-0033',\n",
       "       '2018-0034', '2018-0035', '2018-0036', '2018-0037', '2018-0038',\n",
       "       '2018-0040', '2018-0041', '2018-0042', '2018-0043', '2018-0044',\n",
       "       '2018-0045', '2018-0046', '2018-0047', '2018-0048', '2018-0049',\n",
       "       '2018-0050', '2018-0051', '2018-0052', '2018-0053', '2018-0054',\n",
       "       '2018-0055', '2018-0056', '2018-0057', '2018-0058', '2018-0059',\n",
       "       '2018-0060', '2018-0061', '2018-0062', '2018-0063', '2018-0064',\n",
       "       '2018-0065', '2018-0066', '2018-0067', '2018-0068', '2018-0069',\n",
       "       '2018-0070', '2018-0071', '2018-0072', '2018-0073', '2018-0074',\n",
       "       '2018-0075', '2018-0076', '2018-0077', '2018-0078', '2018-0079',\n",
       "       '2018-0080', '2018-0081', '2018-0082', '2018-0083', '2018-0084',\n",
       "       '2018-0085', '2018-0086', '2018-0087', '2018-0088', '2018-0089',\n",
       "       '2018-0090', '2018-0091', '2018-0092', '2018-0093', '2018-0094',\n",
       "       '2018-0095', '2018-0096', '2018-0097', '2018-0098', '2018-0099',\n",
       "       '2018-0100', '2018-0101', '2018-0102', '2018-0103', '2018-0104',\n",
       "       '2018-0105', '2018-0106', '2018-0107', '2018-0108', '2018-0109',\n",
       "       '2018-0110', '2018-0111', '2018-0112', '2018-0113', '2018-0114',\n",
       "       '2018-0115', '2018-0116', '2018-0117', '2018-0118', '2018-0119',\n",
       "       '2018-0120', '2018-0121', '2018-0122', '2018-0123', '2018-0124',\n",
       "       '2018-0125', '2018-0126', '2018-0127', '2018-0128', '2018-0129',\n",
       "       '2018-0130', '2018-0131', '2018-0132', '2018-0133', '2018-0134',\n",
       "       '2018-0135', '2018-0136', '2018-0137', '2018-0138', '2018-0139',\n",
       "       '2018-0140', '2018-0141', '2018-0142', '2018-0143', '2019-0001',\n",
       "       '2019-0002', '2019-0003', '2019-0004', '2019-0005', '2019-0006',\n",
       "       '2019-0007', '2019-0008', '2019-0009', '2019-0010', '2019-0011',\n",
       "       '2019-0012', '2019-0013', '2019-0014', '2019-0015', '2019-0016',\n",
       "       '2019-0017', '2019-0018', '2019-0019', '2019-0020', '2019-0021',\n",
       "       '2019-0022', '2019-0023', '2019-0024', '2019-0025', '2019-0026',\n",
       "       '2019-0027', '2019-0028', '2019-0029', '2019-0030', '2019-0031',\n",
       "       '2019-0032', '2019-0033', '2019-0034', '2019-0035', '2019-0036',\n",
       "       '2019-0037', '2019-0038', '2019-0039', '2019-0040', '2019-0041',\n",
       "       '2019-0042', '2019-0043', '2019-0044', '2019-0045', '2019-0046',\n",
       "       '2019-0047', '2019-0048', '2019-0049', '2019-0050', '2019-0051',\n",
       "       '2019-0053', '2019-0054', '2019-0055', '2019-0056', '2019-0057',\n",
       "       '2019-0058', '2019-0059', '2019-0060', '2019-0061', '2019-0062',\n",
       "       '2019-0063', '2019-0064', '2019-0065', '2019-0066', '2019-0067',\n",
       "       '2019-0068', '2019-0069', '2019-0070', '2019-0071', '2019-0072',\n",
       "       '2019-0073', '2019-0074', '2019-0075', '2019-0076', '2019-0077',\n",
       "       '2019-0078', '2019-0079', '2019-0080', '2019-0081', '2019-0082',\n",
       "       '2019-0083', '2019-0084', '2019-0085', '2019-0086', '2019-0087',\n",
       "       '2019-0088', '2019-0089', '2019-0090', '2019-0091', '2019-0092',\n",
       "       '2019-0093', '2019-0094', '2019-0095', '2019-0096', '2019-0097',\n",
       "       '2019-0098', '2019-0100', '2019-0101', '2019-0102', '2019-0104',\n",
       "       '2019-0105', '2020-0001', '2020-0002', '2020-0003', '2020-0004',\n",
       "       '2020-0005', '2020-0006', '2020-0007', '2020-0008', '2020-0009',\n",
       "       '2020-0010', '2020-0011', '2020-0012', '2020-0013', '2020-0014',\n",
       "       '2020-0015', '2020-0016', '2020-0017', '2020-0018', '2020-0019',\n",
       "       '2020-0020', '2020-0021', '2020-0022', '2020-0023', '2020-0024',\n",
       "       '2020-0025', '2020-0027', '2020-0028', '2020-0029', '2020-0030',\n",
       "       '2020-0031', '2020-0032', '2020-0033', '2020-0034', '2020-0035',\n",
       "       '2020-0036', '2020-0037', '2020-0038', '2020-0040', '2020-0041',\n",
       "       '2020-0042', '2020-0043', '2020-0044', '2020-0045', '2020-0046',\n",
       "       '2020-0047', '2020-0048', '2020-0049', '2020-0050', '2020-0051',\n",
       "       '2020-0052', '2020-0053', '2020-0054', '2020-0055', '2020-0056',\n",
       "       '2020-0057', '2020-0058', '2020-0059', '2020-0060', '2020-0061',\n",
       "       '2020-0062', '2020-0065', '2020-0066', '2020-0067', '2020-0068',\n",
       "       '2020-0069', '2020-0070', '2020-0071', '2020-0072', '2020-0073',\n",
       "       '2020-0074', '2020-0075', '2020-0076', '2020-0077', '2020-0078',\n",
       "       '2020-0079', '2021-0001', '2021-0002', '2021-0003', '2021-0004',\n",
       "       '2021-0005', '2021-0006', '2021-0007', '2021-0008', '2021-0009',\n",
       "       '2021-0010', '2021-0011', '2021-0012', '2021-0013', '2021-0014',\n",
       "       '2021-0015', '2021-0016', '2021-0017', '2021-0018', '2021-0019',\n",
       "       '2021-0020', '2021-0021', '2021-0022', '2021-0024', '2021-0025',\n",
       "       '2021-0026', '2021-0027', '2021-0028', '2021-0029', '2021-0030',\n",
       "       '2021-0031', '2021-0032', '2021-0033', '2021-0034', '2021-0035',\n",
       "       '2021-0036', '2021-0037', '2021-0038', '2021-0039', '2021-0040',\n",
       "       '2021-0041', '2021-0042', '2021-0043', '2021-0044', '2021-0045',\n",
       "       '2021-0046', '2021-0047', '2021-0048', '2021-0049', '2021-0050',\n",
       "       '2021-0051', '2021-0052', '2021-0053', '2021-0054', '2021-0055',\n",
       "       '2021-0056', '2021-0057', '2021-0058', '2021-0059', '2021-0060',\n",
       "       '2021-0061', '2021-0062', '2021-0063', '2021-0064', '2021-0065',\n",
       "       '2021-0066', '2021-0067', '2021-0068', '2021-0069', '2021-0070',\n",
       "       '2021-0071', '2021-0072', '2021-0073', '2021-0074', '2021-0075',\n",
       "       '2021-0076', '2021-0077', '2021-0078', '2021-0079', '2021-0080',\n",
       "       '2021-0081', '2021-0082', '2021-0083', '2021-0084', '2021-0085',\n",
       "       '2021-0086', '2021-0087', '2021-0088', '2021-0089', '2021-0090',\n",
       "       '2021-0091', '2021-0092', '2021-0093', '2021-0094', '2021-0095',\n",
       "       '2021-0096', '2021-0097', '2020-0063'], dtype=object)"
      ]
     },
     "execution_count": 74,
     "metadata": {},
     "output_type": "execute_result"
    }
   ],
   "source": [
    "df_hechos['ID'].unique()"
   ]
  },
  {
   "cell_type": "code",
   "execution_count": 22,
   "metadata": {},
   "outputs": [
    {
     "data": {
      "text/plain": [
       "array([2016, 2017, 2018, 2019, 2020, 2021], dtype=int64)"
      ]
     },
     "execution_count": 22,
     "metadata": {},
     "output_type": "execute_result"
    }
   ],
   "source": [
    "# Revisa valores únicos de la columna AAAA\n",
    "df_hechos['AAAA'].unique()"
   ]
  },
  {
   "cell_type": "markdown",
   "metadata": {},
   "source": [
    "Los valores de la columna AAAA estan acordes a los años correspondientes al periodoo de tiempo registrado."
   ]
  },
  {
   "cell_type": "code",
   "execution_count": 23,
   "metadata": {},
   "outputs": [
    {
     "data": {
      "text/plain": [
       "array([ 1,  2,  3,  4,  5,  6,  7,  8,  9, 10, 11, 12], dtype=int64)"
      ]
     },
     "execution_count": 23,
     "metadata": {},
     "output_type": "execute_result"
    }
   ],
   "source": [
    "# Revisa valores únicos de la columna MM\n",
    "df_hechos['MM'].unique()"
   ]
  },
  {
   "cell_type": "markdown",
   "metadata": {},
   "source": [
    "Los valores de al columna MM corresponden a la numeración de los meses."
   ]
  },
  {
   "cell_type": "code",
   "execution_count": 24,
   "metadata": {},
   "outputs": [
    {
     "data": {
      "text/plain": [
       "array([ 1,  2,  3, 10, 21, 24, 29,  8, 14, 15, 17, 28,  4, 12, 13, 19, 23,\n",
       "       30, 31, 11, 20, 22, 25, 26, 16, 18, 27,  7,  9,  5,  6],\n",
       "      dtype=int64)"
      ]
     },
     "execution_count": 24,
     "metadata": {},
     "output_type": "execute_result"
    }
   ],
   "source": [
    "# Revisa valores únicos de la columna DD\n",
    "df_hechos['DD'].unique()"
   ]
  },
  {
   "cell_type": "markdown",
   "metadata": {},
   "source": [
    "Los valores de al columna DD corresponden a la numeración de los días del mes."
   ]
  },
  {
   "cell_type": "code",
   "execution_count": 25,
   "metadata": {},
   "outputs": [
    {
     "data": {
      "text/plain": [
       "array(['AVENIDA', 'GRAL PAZ', 'CALLE', 'AUTOPISTA'], dtype=object)"
      ]
     },
     "execution_count": 25,
     "metadata": {},
     "output_type": "execute_result"
    }
   ],
   "source": [
    "# Revisa valores únicos de la columna tipo de calle\n",
    "df_hechos['TIPO_DE_CALLE'].unique()\n"
   ]
  },
  {
   "cell_type": "markdown",
   "metadata": {},
   "source": [
    "Los valores de la columna 'TIPO_DE_CALLE' corresponden a los mismos definidos en el diccionario de datos."
   ]
  },
  {
   "cell_type": "code",
   "execution_count": 26,
   "metadata": {},
   "outputs": [
    {
     "data": {
      "text/plain": [
       "array(['MOTO', 'AUTO', 'PEATON', 'SD', 'CARGAS', 'BICICLETA', 'PASAJEROS',\n",
       "       'MOVIL', 'OBJETO FIJO', 'PEATON_MOTO'], dtype=object)"
      ]
     },
     "execution_count": 26,
     "metadata": {},
     "output_type": "execute_result"
    }
   ],
   "source": [
    "df_hechos['VICTIMA'].unique()"
   ]
  },
  {
   "cell_type": "markdown",
   "metadata": {},
   "source": [
    "Se observa que los valores 'OBJETO FIJO' y 'PEATON_MOTO' en la columna 'VICTIMA' no están alineados con los definidos en el diccionario de datos. Específicamente, resulta incoherente que la víctima sea catalogada como 'OBJETO FIJO', dado que se refiere al vehículo que ocupaba la víctima. Se revisan las filas que contienen estos valores para determinar las acciones necesarias, como posiblemente eliminar o corregir estos datos inconsistentes."
   ]
  },
  {
   "cell_type": "code",
   "execution_count": 27,
   "metadata": {},
   "outputs": [
    {
     "data": {
      "text/html": [
       "<div>\n",
       "<style scoped>\n",
       "    .dataframe tbody tr th:only-of-type {\n",
       "        vertical-align: middle;\n",
       "    }\n",
       "\n",
       "    .dataframe tbody tr th {\n",
       "        vertical-align: top;\n",
       "    }\n",
       "\n",
       "    .dataframe thead th {\n",
       "        text-align: right;\n",
       "    }\n",
       "</style>\n",
       "<table border=\"1\" class=\"dataframe\">\n",
       "  <thead>\n",
       "    <tr style=\"text-align: right;\">\n",
       "      <th></th>\n",
       "      <th>ID</th>\n",
       "      <th>N_VICTIMAS</th>\n",
       "      <th>FECHA</th>\n",
       "      <th>AAAA</th>\n",
       "      <th>MM</th>\n",
       "      <th>DD</th>\n",
       "      <th>HORA</th>\n",
       "      <th>HH</th>\n",
       "      <th>LUGAR_DEL_HECHO</th>\n",
       "      <th>TIPO_DE_CALLE</th>\n",
       "      <th>...</th>\n",
       "      <th>Altura</th>\n",
       "      <th>Cruce</th>\n",
       "      <th>Dirección Normalizada</th>\n",
       "      <th>COMUNA</th>\n",
       "      <th>XY (CABA)</th>\n",
       "      <th>pos x</th>\n",
       "      <th>pos y</th>\n",
       "      <th>PARTICIPANTES</th>\n",
       "      <th>VICTIMA</th>\n",
       "      <th>ACUSADO</th>\n",
       "    </tr>\n",
       "  </thead>\n",
       "  <tbody>\n",
       "    <tr>\n",
       "      <th>230</th>\n",
       "      <td>2017-0108</td>\n",
       "      <td>2</td>\n",
       "      <td>2017-09-02</td>\n",
       "      <td>2017</td>\n",
       "      <td>9</td>\n",
       "      <td>2</td>\n",
       "      <td>04:53:08</td>\n",
       "      <td>4</td>\n",
       "      <td>AV. GRAL. PAZ Y MACHAIN</td>\n",
       "      <td>GRAL PAZ</td>\n",
       "      <td>...</td>\n",
       "      <td>0</td>\n",
       "      <td>MACHAIN</td>\n",
       "      <td>PAZ, GRAL. AV. y MACHAIN</td>\n",
       "      <td>12</td>\n",
       "      <td>Point (97098.48468623 109019.96106626)</td>\n",
       "      <td>-58.494911</td>\n",
       "      <td>-34.547955</td>\n",
       "      <td>AUTO-OBJETO FIJO</td>\n",
       "      <td>OBJETO FIJO</td>\n",
       "      <td>AUTO</td>\n",
       "    </tr>\n",
       "  </tbody>\n",
       "</table>\n",
       "<p>1 rows × 21 columns</p>\n",
       "</div>"
      ],
      "text/plain": [
       "            ID  N_VICTIMAS      FECHA  AAAA  MM  DD      HORA  HH  \\\n",
       "230  2017-0108           2 2017-09-02  2017   9   2  04:53:08   4   \n",
       "\n",
       "             LUGAR_DEL_HECHO TIPO_DE_CALLE  ... Altura    Cruce  \\\n",
       "230  AV. GRAL. PAZ Y MACHAIN      GRAL PAZ  ...      0  MACHAIN   \n",
       "\n",
       "        Dirección Normalizada COMUNA                               XY (CABA)  \\\n",
       "230  PAZ, GRAL. AV. y MACHAIN     12  Point (97098.48468623 109019.96106626)   \n",
       "\n",
       "         pos x      pos y     PARTICIPANTES      VICTIMA ACUSADO  \n",
       "230 -58.494911 -34.547955  AUTO-OBJETO FIJO  OBJETO FIJO    AUTO  \n",
       "\n",
       "[1 rows x 21 columns]"
      ]
     },
     "execution_count": 27,
     "metadata": {},
     "output_type": "execute_result"
    }
   ],
   "source": [
    "df_hechos[df_hechos['VICTIMA'] == 'OBJETO FIJO']"
   ]
  },
  {
   "cell_type": "markdown",
   "metadata": {},
   "source": [
    "Después de una revisión de los datos, se ha identificado que los valores de las columnas 'VICTIMA' y 'ACUSADO' parecen estar intercambiados. Esta conclusión se basa en la observación de que la columna 'PARTICIPANTES', que combina ambas, presenta el valor 'AUTO-OBJETO FIJO', lo que sugiere una inconsistencia en la asignación de roles. Para corregir esta discrepancia, se ha decidido asignar los valores adecuados a las columnas 'VICTIMA' y 'ACUSADO' de acuerdo con el contexto del incidente."
   ]
  },
  {
   "cell_type": "code",
   "execution_count": 28,
   "metadata": {},
   "outputs": [],
   "source": [
    "# Reemplazar los valores en la fila específica de las columnas específicas\n",
    "df_hechos.at[230, 'VICTIMA'] = 'AUTO'\n",
    "df_hechos.at[230, 'ACUSADO'] = 'OBJETO FIJO'\t"
   ]
  },
  {
   "cell_type": "code",
   "execution_count": 29,
   "metadata": {},
   "outputs": [
    {
     "data": {
      "text/html": [
       "<div>\n",
       "<style scoped>\n",
       "    .dataframe tbody tr th:only-of-type {\n",
       "        vertical-align: middle;\n",
       "    }\n",
       "\n",
       "    .dataframe tbody tr th {\n",
       "        vertical-align: top;\n",
       "    }\n",
       "\n",
       "    .dataframe thead th {\n",
       "        text-align: right;\n",
       "    }\n",
       "</style>\n",
       "<table border=\"1\" class=\"dataframe\">\n",
       "  <thead>\n",
       "    <tr style=\"text-align: right;\">\n",
       "      <th></th>\n",
       "      <th>ID</th>\n",
       "      <th>N_VICTIMAS</th>\n",
       "      <th>FECHA</th>\n",
       "      <th>AAAA</th>\n",
       "      <th>MM</th>\n",
       "      <th>DD</th>\n",
       "      <th>HORA</th>\n",
       "      <th>HH</th>\n",
       "      <th>LUGAR_DEL_HECHO</th>\n",
       "      <th>TIPO_DE_CALLE</th>\n",
       "      <th>...</th>\n",
       "      <th>Altura</th>\n",
       "      <th>Cruce</th>\n",
       "      <th>Dirección Normalizada</th>\n",
       "      <th>COMUNA</th>\n",
       "      <th>XY (CABA)</th>\n",
       "      <th>pos x</th>\n",
       "      <th>pos y</th>\n",
       "      <th>PARTICIPANTES</th>\n",
       "      <th>VICTIMA</th>\n",
       "      <th>ACUSADO</th>\n",
       "    </tr>\n",
       "  </thead>\n",
       "  <tbody>\n",
       "    <tr>\n",
       "      <th>583</th>\n",
       "      <td>2020-0063</td>\n",
       "      <td>2</td>\n",
       "      <td>2020-12-05</td>\n",
       "      <td>2020</td>\n",
       "      <td>12</td>\n",
       "      <td>5</td>\n",
       "      <td>07:10:00</td>\n",
       "      <td>7</td>\n",
       "      <td>NUEVA YORK Y ALTA GRACIA</td>\n",
       "      <td>CALLE</td>\n",
       "      <td>...</td>\n",
       "      <td>0</td>\n",
       "      <td>ALTA GRACIA</td>\n",
       "      <td>NUEVA YORK y ALTA GRACIA</td>\n",
       "      <td>11</td>\n",
       "      <td>Point (94080.62190808 102083.62453795)</td>\n",
       "      <td>-58.52784</td>\n",
       "      <td>-34.61047</td>\n",
       "      <td>PEATON_MOTO-MOTO</td>\n",
       "      <td>PEATON_MOTO</td>\n",
       "      <td>MOTO</td>\n",
       "    </tr>\n",
       "  </tbody>\n",
       "</table>\n",
       "<p>1 rows × 21 columns</p>\n",
       "</div>"
      ],
      "text/plain": [
       "            ID  N_VICTIMAS      FECHA  AAAA  MM  DD      HORA  HH  \\\n",
       "583  2020-0063           2 2020-12-05  2020  12   5  07:10:00   7   \n",
       "\n",
       "              LUGAR_DEL_HECHO TIPO_DE_CALLE  ... Altura        Cruce  \\\n",
       "583  NUEVA YORK Y ALTA GRACIA         CALLE  ...      0  ALTA GRACIA   \n",
       "\n",
       "        Dirección Normalizada COMUNA                               XY (CABA)  \\\n",
       "583  NUEVA YORK y ALTA GRACIA     11  Point (94080.62190808 102083.62453795)   \n",
       "\n",
       "        pos x     pos y     PARTICIPANTES      VICTIMA ACUSADO  \n",
       "583 -58.52784 -34.61047  PEATON_MOTO-MOTO  PEATON_MOTO    MOTO  \n",
       "\n",
       "[1 rows x 21 columns]"
      ]
     },
     "execution_count": 29,
     "metadata": {},
     "output_type": "execute_result"
    }
   ],
   "source": [
    "df_hechos[df_hechos['VICTIMA'] == 'PEATON_MOTO']"
   ]
  },
  {
   "cell_type": "markdown",
   "metadata": {},
   "source": [
    "Al revisar la fila de este dataframe y el ID correspondiente en el dataframe víctimas, se encontró que hubo dos víctimas en el accidente: un peatón y un pasajero de una moto. Para mantener esta información y garantizar que esté en línea con el diccionario de datos, se ha tomado la decisión de dividir la fila en dos filas separadas, una para cada tipo de víctima, y ajustar las columnas 'N_VICTIMAS', 'PARTICIPANTES' y 'VICTIMA' en consecuencia, para posteriormente eliminar la fila original."
   ]
  },
  {
   "cell_type": "code",
   "execution_count": 30,
   "metadata": {},
   "outputs": [],
   "source": [
    "# Obtiene los datos de la fila 583\n",
    "datos_fila_583 = df_hechos.loc[583]\n",
    "# Crea dos nuevas filas para cada víctima\n",
    "nueva_fila_peaton = datos_fila_583.copy()\n",
    "nueva_fila_moto = datos_fila_583.copy()\n",
    "# Ajusta valores de columnas afectadas\n",
    "nueva_fila_peaton['VICTIMA'] = 'PEATON'\n",
    "nueva_fila_peaton['N_VICTIMAS'] = 1\n",
    "nueva_fila_peaton['PARTICIPANTES'] = 'PEATON-MOTO'\n",
    "\n",
    "nueva_fila_moto['VICTIMA'] = 'MOTO'\n",
    "nueva_fila_moto['N_VICTIMAS'] = 1\n",
    "nueva_fila_moto['PARTICIPANTES'] = 'MOTO-MOTO'\n",
    "\n",
    "# Convierte la nueva fila en un DataFrame\n",
    "nueva_fila_peaton_df = pd.DataFrame([nueva_fila_peaton])\n",
    "nueva_fila_moto_df = pd.DataFrame([nueva_fila_moto])\n",
    "\n",
    "# Elimina la fila original\n",
    "df_hechos = df_hechos.drop(index= 583, axis=0)\n",
    "\n",
    "# Agrega las nuevas filas al DataFrame\n",
    "df_hechos = pd.concat([df_hechos, nueva_fila_peaton_df, nueva_fila_moto_df], ignore_index=True)\n"
   ]
  },
  {
   "cell_type": "code",
   "execution_count": 31,
   "metadata": {},
   "outputs": [
    {
     "data": {
      "text/plain": [
       "array(['AUTO', 'PASAJEROS', 'SD', 'OBJETO FIJO', 'CARGAS', 'MOTO',\n",
       "       'MULTIPLE', 'OTRO', 'BICICLETA', 'TREN'], dtype=object)"
      ]
     },
     "execution_count": 31,
     "metadata": {},
     "output_type": "execute_result"
    }
   ],
   "source": [
    "df_hechos['ACUSADO'].unique()"
   ]
  },
  {
   "cell_type": "markdown",
   "metadata": {},
   "source": [
    "Los valores de la columna 'ACUSADO' corresponden a los mismos definidos en el diccionario de datos."
   ]
  },
  {
   "cell_type": "markdown",
   "metadata": {},
   "source": [
    "#### Estadísticas descriptivas"
   ]
  },
  {
   "cell_type": "code",
   "execution_count": 32,
   "metadata": {},
   "outputs": [
    {
     "data": {
      "text/html": [
       "<div>\n",
       "<style scoped>\n",
       "    .dataframe tbody tr th:only-of-type {\n",
       "        vertical-align: middle;\n",
       "    }\n",
       "\n",
       "    .dataframe tbody tr th {\n",
       "        vertical-align: top;\n",
       "    }\n",
       "\n",
       "    .dataframe thead th {\n",
       "        text-align: right;\n",
       "    }\n",
       "</style>\n",
       "<table border=\"1\" class=\"dataframe\">\n",
       "  <thead>\n",
       "    <tr style=\"text-align: right;\">\n",
       "      <th></th>\n",
       "      <th>ID</th>\n",
       "      <th>N_VICTIMAS</th>\n",
       "      <th>FECHA</th>\n",
       "      <th>AAAA</th>\n",
       "      <th>MM</th>\n",
       "      <th>DD</th>\n",
       "      <th>HORA</th>\n",
       "      <th>HH</th>\n",
       "      <th>LUGAR_DEL_HECHO</th>\n",
       "      <th>TIPO_DE_CALLE</th>\n",
       "      <th>...</th>\n",
       "      <th>Altura</th>\n",
       "      <th>Cruce</th>\n",
       "      <th>Dirección Normalizada</th>\n",
       "      <th>COMUNA</th>\n",
       "      <th>XY (CABA)</th>\n",
       "      <th>pos x</th>\n",
       "      <th>pos y</th>\n",
       "      <th>PARTICIPANTES</th>\n",
       "      <th>VICTIMA</th>\n",
       "      <th>ACUSADO</th>\n",
       "    </tr>\n",
       "  </thead>\n",
       "  <tbody>\n",
       "    <tr>\n",
       "      <th>count</th>\n",
       "      <td>684</td>\n",
       "      <td>684.000000</td>\n",
       "      <td>684</td>\n",
       "      <td>684.000000</td>\n",
       "      <td>684.000000</td>\n",
       "      <td>684.000000</td>\n",
       "      <td>684</td>\n",
       "      <td>684.000000</td>\n",
       "      <td>684</td>\n",
       "      <td>684</td>\n",
       "      <td>...</td>\n",
       "      <td>684.000000</td>\n",
       "      <td>684.0</td>\n",
       "      <td>684</td>\n",
       "      <td>684.000000</td>\n",
       "      <td>684</td>\n",
       "      <td>684.000000</td>\n",
       "      <td>684.000000</td>\n",
       "      <td>684</td>\n",
       "      <td>684</td>\n",
       "      <td>684</td>\n",
       "    </tr>\n",
       "    <tr>\n",
       "      <th>unique</th>\n",
       "      <td>683</td>\n",
       "      <td>NaN</td>\n",
       "      <td>NaN</td>\n",
       "      <td>NaN</td>\n",
       "      <td>NaN</td>\n",
       "      <td>NaN</td>\n",
       "      <td>316</td>\n",
       "      <td>NaN</td>\n",
       "      <td>670</td>\n",
       "      <td>4</td>\n",
       "      <td>...</td>\n",
       "      <td>NaN</td>\n",
       "      <td>317.0</td>\n",
       "      <td>631</td>\n",
       "      <td>NaN</td>\n",
       "      <td>605</td>\n",
       "      <td>NaN</td>\n",
       "      <td>NaN</td>\n",
       "      <td>40</td>\n",
       "      <td>8</td>\n",
       "      <td>10</td>\n",
       "    </tr>\n",
       "    <tr>\n",
       "      <th>top</th>\n",
       "      <td>2020-0063</td>\n",
       "      <td>NaN</td>\n",
       "      <td>NaN</td>\n",
       "      <td>NaN</td>\n",
       "      <td>NaN</td>\n",
       "      <td>NaN</td>\n",
       "      <td>21:00:00</td>\n",
       "      <td>NaN</td>\n",
       "      <td>AV 27 DE FEBRERO Y AV ESCALADA</td>\n",
       "      <td>AVENIDA</td>\n",
       "      <td>...</td>\n",
       "      <td>NaN</td>\n",
       "      <td>0.0</td>\n",
       "      <td>27 DE FEBRERO AV. y ESCALADA AV.</td>\n",
       "      <td>NaN</td>\n",
       "      <td>Point (101721.59002217 93844.25656649)</td>\n",
       "      <td>NaN</td>\n",
       "      <td>NaN</td>\n",
       "      <td>PEATON-PASAJEROS</td>\n",
       "      <td>MOTO</td>\n",
       "      <td>AUTO</td>\n",
       "    </tr>\n",
       "    <tr>\n",
       "      <th>freq</th>\n",
       "      <td>2</td>\n",
       "      <td>NaN</td>\n",
       "      <td>NaN</td>\n",
       "      <td>NaN</td>\n",
       "      <td>NaN</td>\n",
       "      <td>NaN</td>\n",
       "      <td>10</td>\n",
       "      <td>NaN</td>\n",
       "      <td>4</td>\n",
       "      <td>429</td>\n",
       "      <td>...</td>\n",
       "      <td>NaN</td>\n",
       "      <td>159.0</td>\n",
       "      <td>5</td>\n",
       "      <td>NaN</td>\n",
       "      <td>5</td>\n",
       "      <td>NaN</td>\n",
       "      <td>NaN</td>\n",
       "      <td>105</td>\n",
       "      <td>288</td>\n",
       "      <td>201</td>\n",
       "    </tr>\n",
       "    <tr>\n",
       "      <th>mean</th>\n",
       "      <td>NaN</td>\n",
       "      <td>1.027778</td>\n",
       "      <td>2018-09-18 12:56:50.526315776</td>\n",
       "      <td>2018.200292</td>\n",
       "      <td>6.690058</td>\n",
       "      <td>15.922515</td>\n",
       "      <td>NaN</td>\n",
       "      <td>11.647661</td>\n",
       "      <td>NaN</td>\n",
       "      <td>NaN</td>\n",
       "      <td>...</td>\n",
       "      <td>629.277778</td>\n",
       "      <td>NaN</td>\n",
       "      <td>NaN</td>\n",
       "      <td>7.421053</td>\n",
       "      <td>NaN</td>\n",
       "      <td>-58.441555</td>\n",
       "      <td>-34.619656</td>\n",
       "      <td>NaN</td>\n",
       "      <td>NaN</td>\n",
       "      <td>NaN</td>\n",
       "    </tr>\n",
       "    <tr>\n",
       "      <th>min</th>\n",
       "      <td>NaN</td>\n",
       "      <td>1.000000</td>\n",
       "      <td>2016-01-01 00:00:00</td>\n",
       "      <td>2016.000000</td>\n",
       "      <td>1.000000</td>\n",
       "      <td>1.000000</td>\n",
       "      <td>NaN</td>\n",
       "      <td>0.000000</td>\n",
       "      <td>NaN</td>\n",
       "      <td>NaN</td>\n",
       "      <td>...</td>\n",
       "      <td>0.000000</td>\n",
       "      <td>NaN</td>\n",
       "      <td>NaN</td>\n",
       "      <td>1.000000</td>\n",
       "      <td>NaN</td>\n",
       "      <td>-58.529942</td>\n",
       "      <td>-34.705250</td>\n",
       "      <td>NaN</td>\n",
       "      <td>NaN</td>\n",
       "      <td>NaN</td>\n",
       "    </tr>\n",
       "    <tr>\n",
       "      <th>25%</th>\n",
       "      <td>NaN</td>\n",
       "      <td>1.000000</td>\n",
       "      <td>2017-04-03 00:00:00</td>\n",
       "      <td>2017.000000</td>\n",
       "      <td>4.000000</td>\n",
       "      <td>9.000000</td>\n",
       "      <td>NaN</td>\n",
       "      <td>6.000000</td>\n",
       "      <td>NaN</td>\n",
       "      <td>NaN</td>\n",
       "      <td>...</td>\n",
       "      <td>0.000000</td>\n",
       "      <td>NaN</td>\n",
       "      <td>NaN</td>\n",
       "      <td>4.000000</td>\n",
       "      <td>NaN</td>\n",
       "      <td>-58.476217</td>\n",
       "      <td>-34.643690</td>\n",
       "      <td>NaN</td>\n",
       "      <td>NaN</td>\n",
       "      <td>NaN</td>\n",
       "    </tr>\n",
       "    <tr>\n",
       "      <th>50%</th>\n",
       "      <td>NaN</td>\n",
       "      <td>1.000000</td>\n",
       "      <td>2018-07-16 00:00:00</td>\n",
       "      <td>2018.000000</td>\n",
       "      <td>7.000000</td>\n",
       "      <td>16.000000</td>\n",
       "      <td>NaN</td>\n",
       "      <td>11.000000</td>\n",
       "      <td>NaN</td>\n",
       "      <td>NaN</td>\n",
       "      <td>...</td>\n",
       "      <td>0.000000</td>\n",
       "      <td>NaN</td>\n",
       "      <td>NaN</td>\n",
       "      <td>8.000000</td>\n",
       "      <td>NaN</td>\n",
       "      <td>-58.444511</td>\n",
       "      <td>-34.622929</td>\n",
       "      <td>NaN</td>\n",
       "      <td>NaN</td>\n",
       "      <td>NaN</td>\n",
       "    </tr>\n",
       "    <tr>\n",
       "      <th>75%</th>\n",
       "      <td>NaN</td>\n",
       "      <td>1.000000</td>\n",
       "      <td>2020-01-06 12:00:00</td>\n",
       "      <td>2020.000000</td>\n",
       "      <td>10.000000</td>\n",
       "      <td>23.000000</td>\n",
       "      <td>NaN</td>\n",
       "      <td>17.000000</td>\n",
       "      <td>NaN</td>\n",
       "      <td>NaN</td>\n",
       "      <td>...</td>\n",
       "      <td>0.000000</td>\n",
       "      <td>NaN</td>\n",
       "      <td>NaN</td>\n",
       "      <td>11.000000</td>\n",
       "      <td>NaN</td>\n",
       "      <td>-58.401840</td>\n",
       "      <td>-34.597013</td>\n",
       "      <td>NaN</td>\n",
       "      <td>NaN</td>\n",
       "      <td>NaN</td>\n",
       "    </tr>\n",
       "    <tr>\n",
       "      <th>max</th>\n",
       "      <td>NaN</td>\n",
       "      <td>3.000000</td>\n",
       "      <td>2021-12-30 00:00:00</td>\n",
       "      <td>2021.000000</td>\n",
       "      <td>12.000000</td>\n",
       "      <td>31.000000</td>\n",
       "      <td>NaN</td>\n",
       "      <td>23.000000</td>\n",
       "      <td>NaN</td>\n",
       "      <td>NaN</td>\n",
       "      <td>...</td>\n",
       "      <td>16080.000000</td>\n",
       "      <td>NaN</td>\n",
       "      <td>NaN</td>\n",
       "      <td>15.000000</td>\n",
       "      <td>NaN</td>\n",
       "      <td>-58.356083</td>\n",
       "      <td>-34.534653</td>\n",
       "      <td>NaN</td>\n",
       "      <td>NaN</td>\n",
       "      <td>NaN</td>\n",
       "    </tr>\n",
       "    <tr>\n",
       "      <th>std</th>\n",
       "      <td>NaN</td>\n",
       "      <td>0.173130</td>\n",
       "      <td>NaN</td>\n",
       "      <td>1.682552</td>\n",
       "      <td>3.576049</td>\n",
       "      <td>8.631117</td>\n",
       "      <td>NaN</td>\n",
       "      <td>6.666505</td>\n",
       "      <td>NaN</td>\n",
       "      <td>NaN</td>\n",
       "      <td>...</td>\n",
       "      <td>1860.572194</td>\n",
       "      <td>NaN</td>\n",
       "      <td>NaN</td>\n",
       "      <td>4.373609</td>\n",
       "      <td>NaN</td>\n",
       "      <td>0.046160</td>\n",
       "      <td>0.035278</td>\n",
       "      <td>NaN</td>\n",
       "      <td>NaN</td>\n",
       "      <td>NaN</td>\n",
       "    </tr>\n",
       "  </tbody>\n",
       "</table>\n",
       "<p>11 rows × 21 columns</p>\n",
       "</div>"
      ],
      "text/plain": [
       "               ID  N_VICTIMAS                          FECHA         AAAA  \\\n",
       "count         684  684.000000                            684   684.000000   \n",
       "unique        683         NaN                            NaN          NaN   \n",
       "top     2020-0063         NaN                            NaN          NaN   \n",
       "freq            2         NaN                            NaN          NaN   \n",
       "mean          NaN    1.027778  2018-09-18 12:56:50.526315776  2018.200292   \n",
       "min           NaN    1.000000            2016-01-01 00:00:00  2016.000000   \n",
       "25%           NaN    1.000000            2017-04-03 00:00:00  2017.000000   \n",
       "50%           NaN    1.000000            2018-07-16 00:00:00  2018.000000   \n",
       "75%           NaN    1.000000            2020-01-06 12:00:00  2020.000000   \n",
       "max           NaN    3.000000            2021-12-30 00:00:00  2021.000000   \n",
       "std           NaN    0.173130                            NaN     1.682552   \n",
       "\n",
       "                MM          DD      HORA          HH  \\\n",
       "count   684.000000  684.000000       684  684.000000   \n",
       "unique         NaN         NaN       316         NaN   \n",
       "top            NaN         NaN  21:00:00         NaN   \n",
       "freq           NaN         NaN        10         NaN   \n",
       "mean      6.690058   15.922515       NaN   11.647661   \n",
       "min       1.000000    1.000000       NaN    0.000000   \n",
       "25%       4.000000    9.000000       NaN    6.000000   \n",
       "50%       7.000000   16.000000       NaN   11.000000   \n",
       "75%      10.000000   23.000000       NaN   17.000000   \n",
       "max      12.000000   31.000000       NaN   23.000000   \n",
       "std       3.576049    8.631117       NaN    6.666505   \n",
       "\n",
       "                       LUGAR_DEL_HECHO TIPO_DE_CALLE  ...        Altura  \\\n",
       "count                              684           684  ...    684.000000   \n",
       "unique                             670             4  ...           NaN   \n",
       "top     AV 27 DE FEBRERO Y AV ESCALADA       AVENIDA  ...           NaN   \n",
       "freq                                 4           429  ...           NaN   \n",
       "mean                               NaN           NaN  ...    629.277778   \n",
       "min                                NaN           NaN  ...      0.000000   \n",
       "25%                                NaN           NaN  ...      0.000000   \n",
       "50%                                NaN           NaN  ...      0.000000   \n",
       "75%                                NaN           NaN  ...      0.000000   \n",
       "max                                NaN           NaN  ...  16080.000000   \n",
       "std                                NaN           NaN  ...   1860.572194   \n",
       "\n",
       "        Cruce             Dirección Normalizada      COMUNA  \\\n",
       "count   684.0                               684  684.000000   \n",
       "unique  317.0                               631         NaN   \n",
       "top       0.0  27 DE FEBRERO AV. y ESCALADA AV.         NaN   \n",
       "freq    159.0                                 5         NaN   \n",
       "mean      NaN                               NaN    7.421053   \n",
       "min       NaN                               NaN    1.000000   \n",
       "25%       NaN                               NaN    4.000000   \n",
       "50%       NaN                               NaN    8.000000   \n",
       "75%       NaN                               NaN   11.000000   \n",
       "max       NaN                               NaN   15.000000   \n",
       "std       NaN                               NaN    4.373609   \n",
       "\n",
       "                                     XY (CABA)       pos x       pos y  \\\n",
       "count                                      684  684.000000  684.000000   \n",
       "unique                                     605         NaN         NaN   \n",
       "top     Point (101721.59002217 93844.25656649)         NaN         NaN   \n",
       "freq                                         5         NaN         NaN   \n",
       "mean                                       NaN  -58.441555  -34.619656   \n",
       "min                                        NaN  -58.529942  -34.705250   \n",
       "25%                                        NaN  -58.476217  -34.643690   \n",
       "50%                                        NaN  -58.444511  -34.622929   \n",
       "75%                                        NaN  -58.401840  -34.597013   \n",
       "max                                        NaN  -58.356083  -34.534653   \n",
       "std                                        NaN    0.046160    0.035278   \n",
       "\n",
       "           PARTICIPANTES VICTIMA ACUSADO  \n",
       "count                684     684     684  \n",
       "unique                40       8      10  \n",
       "top     PEATON-PASAJEROS    MOTO    AUTO  \n",
       "freq                 105     288     201  \n",
       "mean                 NaN     NaN     NaN  \n",
       "min                  NaN     NaN     NaN  \n",
       "25%                  NaN     NaN     NaN  \n",
       "50%                  NaN     NaN     NaN  \n",
       "75%                  NaN     NaN     NaN  \n",
       "max                  NaN     NaN     NaN  \n",
       "std                  NaN     NaN     NaN  \n",
       "\n",
       "[11 rows x 21 columns]"
      ]
     },
     "execution_count": 32,
     "metadata": {},
     "output_type": "execute_result"
    }
   ],
   "source": [
    "df_hechos.describe(include='all')"
   ]
  },
  {
   "cell_type": "markdown",
   "metadata": {},
   "source": [
    "- Hay un total de 684 valores de ID y 682 de ellos son unicos, lo cual indica que solo hay un ID repetido, esto se da porque se realizó la división de una fila en dos, para que los valores de la variable 'VICTIMA' estuvieran acorde al diccionario de datos.\n",
    "\n",
    "- Durante el periodo de tiempo analizado, la fecha con mayor registro de accidentes de transito con victimas mortales es el 13 de junio de 2016, con un total de 3.\n",
    "\n",
    "- La hora con mayor ocurrencia de hechos es 21 horas, con una frecuencia de 10, esto puede sugerir una tendencia de mayor riesgo a determinadas horas del día.\n",
    "\n",
    "- El tipo de calle con mayor accidentalidad son las avenidas con un total de 429 hechos resgistrados, esto puede ayudar a identificar los sitios con risgo más alto.\n",
    "\n",
    "- Las victimas  más comunes corresponden a ocupantes de motos."
   ]
  },
  {
   "cell_type": "markdown",
   "metadata": {},
   "source": [
    "#### Visualización de datos"
   ]
  },
  {
   "cell_type": "code",
   "execution_count": 33,
   "metadata": {},
   "outputs": [],
   "source": [
    "# Crea una nueva columna con el dia de la semana en la que ocurrio el hecho\n",
    "df_hechos['FECHA'] = pd.to_datetime(df_hechos['FECHA'])\n",
    "df_hechos['dia_semana'] = df_hechos['FECHA'].dt.dayofweek"
   ]
  },
  {
   "cell_type": "code",
   "execution_count": 34,
   "metadata": {},
   "outputs": [],
   "source": [
    "# Cuenta la cantidad de accidentes por año, mes\n",
    "accidentes_por_año = df_hechos.groupby('AAAA').size()\n",
    "accidentes_por_mes = df_hechos.groupby('MM').size()\n",
    "accidentes_por_dia_semana = df_hechos.groupby('dia_semana').size()\n",
    "accidentes_por_hora = df_hechos.groupby('HH').size()"
   ]
  },
  {
   "cell_type": "code",
   "execution_count": 35,
   "metadata": {},
   "outputs": [
    {
     "name": "stdout",
     "output_type": "stream",
     "text": [
      "AAAA\n",
      "2016    140\n",
      "2017    127\n",
      "2018    142\n",
      "2019    102\n",
      "2020     77\n",
      "2021     96\n",
      "dtype: int64\n",
      "MM\n",
      "1     62\n",
      "2     56\n",
      "3     50\n",
      "4     46\n",
      "5     58\n",
      "6     58\n",
      "7     51\n",
      "8     65\n",
      "9     46\n",
      "10    50\n",
      "11    65\n",
      "12    77\n",
      "dtype: int64\n",
      "dia_semana\n",
      "0    103\n",
      "1     96\n",
      "2     96\n",
      "3     94\n",
      "4     95\n",
      "5    103\n",
      "6     97\n",
      "dtype: int64\n",
      "HH\n",
      "0     21\n",
      "1     24\n",
      "2     17\n",
      "3     25\n",
      "4     23\n",
      "5     35\n",
      "6     39\n",
      "7     42\n",
      "8     31\n",
      "9     34\n",
      "10    31\n",
      "11    26\n",
      "12    32\n",
      "13    17\n",
      "14    33\n",
      "15    25\n",
      "16    30\n",
      "17    30\n",
      "18    31\n",
      "19    29\n",
      "20    24\n",
      "21    29\n",
      "22    29\n",
      "23    27\n",
      "dtype: int64\n"
     ]
    }
   ],
   "source": [
    "print(accidentes_por_año)\n",
    "print(accidentes_por_mes)\n",
    "print(accidentes_por_dia_semana)\n",
    "print(accidentes_por_hora)"
   ]
  },
  {
   "cell_type": "code",
   "execution_count": 36,
   "metadata": {},
   "outputs": [
    {
     "name": "stderr",
     "output_type": "stream",
     "text": [
      "c:\\Users\\57315\\AppData\\Local\\Programs\\Python\\Python310\\lib\\site-packages\\seaborn\\_oldcore.py:1119: FutureWarning: use_inf_as_na option is deprecated and will be removed in a future version. Convert inf values to NaN before operating instead.\n",
      "  with pd.option_context('mode.use_inf_as_na', True):\n",
      "c:\\Users\\57315\\AppData\\Local\\Programs\\Python\\Python310\\lib\\site-packages\\seaborn\\_oldcore.py:1119: FutureWarning: use_inf_as_na option is deprecated and will be removed in a future version. Convert inf values to NaN before operating instead.\n",
      "  with pd.option_context('mode.use_inf_as_na', True):\n",
      "c:\\Users\\57315\\AppData\\Local\\Programs\\Python\\Python310\\lib\\site-packages\\seaborn\\_oldcore.py:1119: FutureWarning: use_inf_as_na option is deprecated and will be removed in a future version. Convert inf values to NaN before operating instead.\n",
      "  with pd.option_context('mode.use_inf_as_na', True):\n",
      "c:\\Users\\57315\\AppData\\Local\\Programs\\Python\\Python310\\lib\\site-packages\\seaborn\\_oldcore.py:1119: FutureWarning: use_inf_as_na option is deprecated and will be removed in a future version. Convert inf values to NaN before operating instead.\n",
      "  with pd.option_context('mode.use_inf_as_na', True):\n",
      "c:\\Users\\57315\\AppData\\Local\\Programs\\Python\\Python310\\lib\\site-packages\\seaborn\\_oldcore.py:1119: FutureWarning: use_inf_as_na option is deprecated and will be removed in a future version. Convert inf values to NaN before operating instead.\n",
      "  with pd.option_context('mode.use_inf_as_na', True):\n",
      "c:\\Users\\57315\\AppData\\Local\\Programs\\Python\\Python310\\lib\\site-packages\\seaborn\\_oldcore.py:1119: FutureWarning: use_inf_as_na option is deprecated and will be removed in a future version. Convert inf values to NaN before operating instead.\n",
      "  with pd.option_context('mode.use_inf_as_na', True):\n",
      "c:\\Users\\57315\\AppData\\Local\\Programs\\Python\\Python310\\lib\\site-packages\\seaborn\\_oldcore.py:1119: FutureWarning: use_inf_as_na option is deprecated and will be removed in a future version. Convert inf values to NaN before operating instead.\n",
      "  with pd.option_context('mode.use_inf_as_na', True):\n",
      "c:\\Users\\57315\\AppData\\Local\\Programs\\Python\\Python310\\lib\\site-packages\\seaborn\\_oldcore.py:1119: FutureWarning: use_inf_as_na option is deprecated and will be removed in a future version. Convert inf values to NaN before operating instead.\n",
      "  with pd.option_context('mode.use_inf_as_na', True):\n"
     ]
    },
    {
     "data": {
      "image/png": "[encoded data removed]",
      "text/plain": [
       "<Figure size 1200x800 with 4 Axes>"
      ]
     },
     "metadata": {},
     "output_type": "display_data"
    }
   ],
   "source": [
    "# Gráfico de lineas cantidad de accidentes respecto al tiempo\n",
    "\n",
    "# Configura el estilo de seaborn\n",
    "sns.set_style(\"whitegrid\")\n",
    "\n",
    "# Crea la figura y las subtramas\n",
    "fig, axes = plt.subplots(2, 2, figsize=(12, 8))\n",
    "\n",
    "# Gráfico de accidentes por año\n",
    "sns.lineplot(x=accidentes_por_año.index, y=accidentes_por_año.values, ax=axes[0, 0])\n",
    "axes[0, 0].set_title('Accidentes por año')\n",
    "axes[0, 0].set_xlabel('Año')\n",
    "axes[0, 0].set_ylabel('Número de accidentes')\n",
    "\n",
    "# Gráfico de accidentes por mes\n",
    "sns.lineplot(x=accidentes_por_mes.index, y=accidentes_por_mes.values, ax=axes[0, 1])\n",
    "axes[0, 1].set_title('Accidentes por mes')\n",
    "axes[0, 1].set_xlabel('Mes')\n",
    "axes[0, 1].set_ylabel('Número de accidentes')\n",
    "\n",
    "# Gráfico de accidentes por día de la semana\n",
    "sns.lineplot(x=accidentes_por_dia_semana.index, y=accidentes_por_dia_semana.values, ax=axes[1, 0])\n",
    "axes[1, 0].set_title('Accidentes por día de la semana')\n",
    "axes[1, 0].set_xlabel('Día de la semana')\n",
    "axes[1, 0].set_ylabel('Número de accidentes')\n",
    "\n",
    "# Gráfico de accidentes por hora\n",
    "sns.lineplot(x=accidentes_por_hora.index, y=accidentes_por_hora.values, ax=axes[1, 1])\n",
    "axes[1, 1].set_title('Accidentes por hora del día')\n",
    "axes[1, 1].set_xlabel('Hora del día')\n",
    "axes[1, 1].set_ylabel('Número de accidentes')\n",
    "\n",
    "# Ajusta el diseño\n",
    "plt.tight_layout()\n",
    "\n",
    "# Muestra el gráfico\n",
    "plt.show()\n"
   ]
  },
  {
   "cell_type": "markdown",
   "metadata": {},
   "source": [
    "Los años 2016 y 2018 muestran una notable cantidad de accidentes en comparación con los años 2020 y 2021. Esto podría atribuirse a las medidas de restricción de circulación implementadas durante esos años debido a un problema de salud pública mundial. Además, en los años 2017 y 2019 se observa una reducción en la cantidad de accidentes con respecto al año anterior del 9.28% y 28.17%.\n",
    "\n",
    "Los meses de diciembre, noviembre y agosto, presentan la mayor accidentalidad, esto puede deberse a que en estos meses se celebran varias festividades religiosas y nacionales, lo que implica una mayor cantidad de personas y vehiculos circulando en las calles y por lo tanto hay un mayor riesgo potencial de accidentes, esto puede ser util para la planificación de medidas adicionales durante fechas de alto tráfico vehicular.\n",
    "\n",
    "Los dias lunes y sabado fueron los días con mayor cantidad de accidentes 103, sin embargo no son muy diferentes de los demas días los cuales estan en un rango entre 94 y 97.\n",
    "\n",
    "Las horas con mas accidentes son las 7 y 6 horas, con 42 y 39 resgistros respectivamente, mientras las horas con menos accidentes son las 2 y las 13 horas ambas con 17 registros, esto sugiere que hay mayor ocurrencia en las horas pico de la manaña que en las de la tarde, , lo cual es consistente con el tráfico intenso durante las horas de la mañana cuando las personas se dirigen al trabajo, la escuela u otras actividades."
   ]
  },
  {
   "cell_type": "code",
   "execution_count": 37,
   "metadata": {},
   "outputs": [
    {
     "data": {
      "text/plain": [
       "TIPO_DE_CALLE\n",
       "AVENIDA      429\n",
       "CALLE        135\n",
       "GRAL PAZ      63\n",
       "AUTOPISTA     57\n",
       "Name: count, dtype: int64"
      ]
     },
     "execution_count": 37,
     "metadata": {},
     "output_type": "execute_result"
    }
   ],
   "source": [
    "# Muestra tabla de frecuencia de tipo de calle\n",
    "df_hechos['TIPO_DE_CALLE'].value_counts()"
   ]
  },
  {
   "cell_type": "code",
   "execution_count": 38,
   "metadata": {},
   "outputs": [
    {
     "data": {
      "image/png": "[encoded data removed]",
      "text/plain": [
       "<Figure size 700x700 with 1 Axes>"
      ]
     },
     "metadata": {},
     "output_type": "display_data"
    }
   ],
   "source": [
    "# Grafico de torta tipo de calle\n",
    "\n",
    "# Configura el estilo de Seaborn\n",
    "sns.set_style(\"whitegrid\")\n",
    "\n",
    "# Tabla de frecuencia de tipo de calle\n",
    "tipo_calle_counts = df_hechos['TIPO_DE_CALLE'].value_counts()\n",
    "\n",
    "# Configura el tamaño del gráfico\n",
    "plt.figure(figsize=(7, 7))\n",
    "\n",
    "# Crea el gráfico de torta\n",
    "plot = tipo_calle_counts.plot(kind='pie', \n",
    "                              labels=None, # Elimina las etiquetas por defecto\n",
    "                              autopct='%1.1f%%', # Muestra los porcentajes en las porciones\n",
    "                              startangle=90, # Gira el gráfico para que empiece en 90 grados (12 en punto)\n",
    "                              colors=sns.color_palette(\"Paired\"), # Utiliza una paleta de colores de Seaborn\n",
    "                              wedgeprops=dict(width=0.5), # Controla el grosor de las porciones\n",
    "                              textprops={'fontsize': 12, 'color': 'black'}, # Configura el tamaño y color de las etiquetas\n",
    "                              pctdistance=0.85) # Ajusta la distancia de los porcentajes del centro\n",
    "\n",
    "# Agrega las etiquetas de leyenda\n",
    "plt.legend(labels=tipo_calle_counts.index, loc=\"best\")\n",
    "\n",
    "# Añade un título\n",
    "plt.title('Tipo de calle donde ocurrió el accidente', fontsize=16)\n",
    "\n",
    "# Elimina el eje y\n",
    "plt.ylabel(None)\n",
    "\n",
    "# Muestra el gráfico\n",
    "plt.show()\n"
   ]
  },
  {
   "cell_type": "markdown",
   "metadata": {},
   "source": [
    "Más del 80% de los accidentes se presentaron en calles tipo avenida o calle, lo que sugiere que estas vías son las más propensas a la accidentalidad. Es importante destacar la importancia de revisar e implementar medidas de seguridad y regulaciones de tráfico en estas áreas para reducir la incidencia de accidentes y mejorar la seguridad vial."
   ]
  },
  {
   "cell_type": "code",
   "execution_count": 39,
   "metadata": {},
   "outputs": [
    {
     "data": {
      "text/plain": [
       "VICTIMA\n",
       "MOTO         288\n",
       "PEATON       262\n",
       "AUTO          83\n",
       "BICICLETA     29\n",
       "SD             8\n",
       "CARGAS         7\n",
       "PASAJEROS      5\n",
       "MOVIL          2\n",
       "Name: count, dtype: int64"
      ]
     },
     "execution_count": 39,
     "metadata": {},
     "output_type": "execute_result"
    }
   ],
   "source": [
    "# Muestra tabla de frecuencia de victima\n",
    "df_hechos['VICTIMA'].value_counts()\n"
   ]
  },
  {
   "cell_type": "code",
   "execution_count": 40,
   "metadata": {},
   "outputs": [
    {
     "data": {
      "image/png": "[encoded data removed]",
      "text/plain": [
       "<Figure size 1800x600 with 1 Axes>"
      ]
     },
     "metadata": {},
     "output_type": "display_data"
    }
   ],
   "source": [
    "# Gráfico de barras tipo de vehículo que ocupaba la víctima\n",
    "\n",
    "# Configura el estilo de Seaborn\n",
    "sns.set_style(\"whitegrid\")\n",
    "\n",
    "# Tabla de frecuencia de vehículo que ocupaba la víctima\n",
    "victima_counts = df_hechos['VICTIMA'].value_counts()\n",
    "\n",
    "# Configura el tamaño del gráfico\n",
    "plt.figure(figsize=(18, 6))\n",
    "\n",
    "# Crea el gráfico de barras\n",
    "sns.barplot(x=victima_counts.index, y=victima_counts, palette=\"Paired\", edgecolor='black')\n",
    "\n",
    "# Añade un título\n",
    "plt.title('Tipo de vehículo que ocupaba la víctima', fontsize=16)\n",
    "\n",
    "\n",
    "# Añade el eje y\n",
    "plt.ylabel('Cantidad de víctimas')\n",
    "\n",
    "# Añade el eje x\n",
    "plt.xlabel('Tipo de vehículo')\n",
    "\n",
    "# Aumenta el tamaño de la fuente en los ejes\n",
    "plt.xticks(fontsize=12)\n",
    "plt.yticks(fontsize=12)\n",
    "\n",
    "# Muestra el gráfico\n",
    "plt.show()\n"
   ]
  },
  {
   "cell_type": "markdown",
   "metadata": {},
   "source": [
    "La gran mayoria de las victimas se encontraban en una moto o eran peatones, lo que sugiere que son los grupos mas vulnerables durante la ocurrencia de los accidentes; la identificación de estos grupos puede ayudar a establecer el enfoque en el diseño de politicas de prevención de accidentes."
   ]
  },
  {
   "cell_type": "code",
   "execution_count": 41,
   "metadata": {},
   "outputs": [
    {
     "name": "stderr",
     "output_type": "stream",
     "text": [
      "c:\\Users\\57315\\AppData\\Local\\Programs\\Python\\Python310\\lib\\site-packages\\seaborn\\_oldcore.py:1119: FutureWarning: use_inf_as_na option is deprecated and will be removed in a future version. Convert inf values to NaN before operating instead.\n",
      "  with pd.option_context('mode.use_inf_as_na', True):\n",
      "c:\\Users\\57315\\AppData\\Local\\Programs\\Python\\Python310\\lib\\site-packages\\seaborn\\_oldcore.py:1119: FutureWarning: use_inf_as_na option is deprecated and will be removed in a future version. Convert inf values to NaN before operating instead.\n",
      "  with pd.option_context('mode.use_inf_as_na', True):\n",
      "c:\\Users\\57315\\AppData\\Local\\Programs\\Python\\Python310\\lib\\site-packages\\seaborn\\_oldcore.py:1119: FutureWarning: use_inf_as_na option is deprecated and will be removed in a future version. Convert inf values to NaN before operating instead.\n",
      "  with pd.option_context('mode.use_inf_as_na', True):\n",
      "c:\\Users\\57315\\AppData\\Local\\Programs\\Python\\Python310\\lib\\site-packages\\seaborn\\_oldcore.py:1119: FutureWarning: use_inf_as_na option is deprecated and will be removed in a future version. Convert inf values to NaN before operating instead.\n",
      "  with pd.option_context('mode.use_inf_as_na', True):\n"
     ]
    },
    {
     "data": {
      "text/plain": [
       "<Figure size 1200x600 with 0 Axes>"
      ]
     },
     "metadata": {},
     "output_type": "display_data"
    },
    {
     "data": {
      "image/png": "[encoded data removed]",
      "text/plain": [
       "<Figure size 600x600 with 3 Axes>"
      ]
     },
     "metadata": {},
     "output_type": "display_data"
    }
   ],
   "source": [
    "# Gráfico de densidad de kernel de coordenadas de los hechos\n",
    "# Configurar el estilo de seaborn\n",
    "sns.set_style(\"whitegrid\")\n",
    "plt.figure(figsize=(12, 6))\n",
    "# Gráfico de distribución conjunta con estimación de densidad kernel (kde)\n",
    "g = sns.jointplot(\n",
    "    data=df_hechos,\n",
    "    x=\"pos x\", y=\"pos y\",\n",
    "    kind=\"kde\", palette=\"Paired\"\n",
    ")\n",
    "\n",
    "# Añadir títulos y etiquetas\n",
    "g.set_axis_labels(\"Longitud\", \"Latitud\", fontsize=12)\n",
    "g.fig.suptitle(\"Distribución de accidentes en función de coordenadas de latitud y longitud\", fontsize=16, y=1.02)\n",
    "\n",
    "# Mostrar el gráfico\n",
    "plt.show()\n"
   ]
  },
  {
   "cell_type": "markdown",
   "metadata": {},
   "source": [
    "El área con mayor ocurrencia de accidnetes estan comprendidas entre las latitudes -34.65 y -34.60 y las longitudes -58.40 y -58.35; esto puede ayudar a identificar los puntos calientes de accidentes."
   ]
  },
  {
   "cell_type": "markdown",
   "metadata": {},
   "source": [
    "#### Análisis de correlación"
   ]
  },
  {
   "cell_type": "markdown",
   "metadata": {},
   "source": [
    "**Coeficiente de correlacion de Pearson**\n",
    "\n",
    "Para que los resultados de esta medida sean validos, deben cumplirse las siguientes condiciones:\n",
    "- Las 2 variables deben ser numéricas\n",
    "- La relación debe ser de tipo lineal\n",
    "- La varianza de la variable dependiente de ser constante a lo largo de la variable independiente\n",
    "- Las 2 variables deben tener distribución normal o aproximadamente normal"
   ]
  },
  {
   "cell_type": "code",
   "execution_count": 42,
   "metadata": {},
   "outputs": [
    {
     "data": {
      "image/png": "[encoded data removed]",
      "text/plain": [
       "<Figure size 1200x800 with 4 Axes>"
      ]
     },
     "metadata": {},
     "output_type": "display_data"
    }
   ],
   "source": [
    "# Evalua si la relación entre 'N_VICTIMAS' y 'AAAA', 'HH', 'pos x', 'pos y' es de tipo lineal\n",
    "# Configura el estilo de seaborn\n",
    "sns.set_style(\"whitegrid\")\n",
    "\n",
    "# Crea la figura y las subtramas\n",
    "fig, axes = plt.subplots(2, 2, figsize=(12, 8))\n",
    "\n",
    "# Gráfico de accidentes por año\n",
    "sns.scatterplot(data=df_hechos, x='AAAA', y='N_VICTIMAS', ax=axes[0, 0])\n",
    "axes[0, 0].set_title('Accidentes por año')\n",
    "axes[0, 0].set_xlabel('Año')\n",
    "axes[0, 0].set_ylabel('Número de accidentes')\n",
    "\n",
    "# Gráfico de accidentes por hora\n",
    "sns.scatterplot(data=df_hechos, x='HH', y='N_VICTIMAS', ax=axes[0, 1])\n",
    "axes[0, 1].set_title('Accidentes por hora')\n",
    "axes[0, 1].set_xlabel('Hora')\n",
    "axes[0, 1].set_ylabel('Número de accidentes')\n",
    "\n",
    "# Gráfico de accidentes por longitud\n",
    "sns.scatterplot(data=df_hechos, x='pos x', y='N_VICTIMAS', ax=axes[1, 0])\n",
    "axes[1, 0].set_title('Accidentes por longitud')\n",
    "axes[1, 0].set_xlabel('Longitud')\n",
    "axes[1, 0].set_ylabel('Número de accidentes')\n",
    "\n",
    "# Gráfico de accidentes por latitud\n",
    "sns.scatterplot(data=df_hechos, x='pos y', y='N_VICTIMAS', ax=axes[1, 1])\n",
    "axes[1, 1].set_title('Accidentes por latitud')\n",
    "axes[1, 1].set_xlabel('Latitud')\n",
    "axes[1, 1].set_ylabel('Número de accidentes')\n",
    "\n",
    "# Ajusta el diseño\n",
    "plt.tight_layout()\n",
    "\n",
    "# Muestra el gráfico\n",
    "plt.show()"
   ]
  },
  {
   "cell_type": "markdown",
   "metadata": {},
   "source": [
    "No se observa relacion lineal entre la fecha, hora, longitud o latitud y la cantidad de victimas, al parecer la cantidad de victimas no varia a los largo del día, de los años, ni la ubicación. Ya que no hay relacion lineal entre estas dos variables no es necesario calcular el coficiente de correlación de Pearson."
   ]
  },
  {
   "cell_type": "markdown",
   "metadata": {},
   "source": [
    "### df_victimas"
   ]
  },
  {
   "cell_type": "markdown",
   "metadata": {},
   "source": [
    "#### Revisión inicial\n",
    "\n",
    "Este dataframe 717 filas y 10 columnas, inicialmente no se encuentran valores nulos en ninguna de las columnas. Las columnas 'EDAD' y 'FECHA_FALLECIMIENTO' presentan datos tipo object cuando en realidad son int o datetime, por lo que se cambió el tipo de datos de acuerdo a las características de cada columna."
   ]
  },
  {
   "cell_type": "code",
   "execution_count": 43,
   "metadata": {},
   "outputs": [
    {
     "data": {
      "text/html": [
       "<div>\n",
       "<style scoped>\n",
       "    .dataframe tbody tr th:only-of-type {\n",
       "        vertical-align: middle;\n",
       "    }\n",
       "\n",
       "    .dataframe tbody tr th {\n",
       "        vertical-align: top;\n",
       "    }\n",
       "\n",
       "    .dataframe thead th {\n",
       "        text-align: right;\n",
       "    }\n",
       "</style>\n",
       "<table border=\"1\" class=\"dataframe\">\n",
       "  <thead>\n",
       "    <tr style=\"text-align: right;\">\n",
       "      <th></th>\n",
       "      <th>ID_hecho</th>\n",
       "      <th>FECHA</th>\n",
       "      <th>AAAA</th>\n",
       "      <th>MM</th>\n",
       "      <th>DD</th>\n",
       "      <th>ROL</th>\n",
       "      <th>VICTIMA</th>\n",
       "      <th>SEXO</th>\n",
       "      <th>EDAD</th>\n",
       "      <th>FECHA_FALLECIMIENTO</th>\n",
       "    </tr>\n",
       "  </thead>\n",
       "  <tbody>\n",
       "    <tr>\n",
       "      <th>0</th>\n",
       "      <td>2016-0001</td>\n",
       "      <td>2016-01-01</td>\n",
       "      <td>2016</td>\n",
       "      <td>1</td>\n",
       "      <td>1</td>\n",
       "      <td>CONDUCTOR</td>\n",
       "      <td>MOTO</td>\n",
       "      <td>MASCULINO</td>\n",
       "      <td>19</td>\n",
       "      <td>2016-01-01 00:00:00</td>\n",
       "    </tr>\n",
       "    <tr>\n",
       "      <th>1</th>\n",
       "      <td>2016-0002</td>\n",
       "      <td>2016-01-02</td>\n",
       "      <td>2016</td>\n",
       "      <td>1</td>\n",
       "      <td>2</td>\n",
       "      <td>CONDUCTOR</td>\n",
       "      <td>AUTO</td>\n",
       "      <td>MASCULINO</td>\n",
       "      <td>70</td>\n",
       "      <td>2016-01-02 00:00:00</td>\n",
       "    </tr>\n",
       "    <tr>\n",
       "      <th>2</th>\n",
       "      <td>2016-0003</td>\n",
       "      <td>2016-01-03</td>\n",
       "      <td>2016</td>\n",
       "      <td>1</td>\n",
       "      <td>3</td>\n",
       "      <td>CONDUCTOR</td>\n",
       "      <td>MOTO</td>\n",
       "      <td>MASCULINO</td>\n",
       "      <td>30</td>\n",
       "      <td>2016-01-03 00:00:00</td>\n",
       "    </tr>\n",
       "    <tr>\n",
       "      <th>3</th>\n",
       "      <td>2016-0004</td>\n",
       "      <td>2016-01-10</td>\n",
       "      <td>2016</td>\n",
       "      <td>1</td>\n",
       "      <td>10</td>\n",
       "      <td>CONDUCTOR</td>\n",
       "      <td>MOTO</td>\n",
       "      <td>MASCULINO</td>\n",
       "      <td>18</td>\n",
       "      <td>SD</td>\n",
       "    </tr>\n",
       "    <tr>\n",
       "      <th>4</th>\n",
       "      <td>2016-0005</td>\n",
       "      <td>2016-01-21</td>\n",
       "      <td>2016</td>\n",
       "      <td>1</td>\n",
       "      <td>21</td>\n",
       "      <td>CONDUCTOR</td>\n",
       "      <td>MOTO</td>\n",
       "      <td>MASCULINO</td>\n",
       "      <td>29</td>\n",
       "      <td>2016-02-01 00:00:00</td>\n",
       "    </tr>\n",
       "  </tbody>\n",
       "</table>\n",
       "</div>"
      ],
      "text/plain": [
       "    ID_hecho      FECHA  AAAA  MM  DD        ROL VICTIMA       SEXO EDAD  \\\n",
       "0  2016-0001 2016-01-01  2016   1   1  CONDUCTOR    MOTO  MASCULINO   19   \n",
       "1  2016-0002 2016-01-02  2016   1   2  CONDUCTOR    AUTO  MASCULINO   70   \n",
       "2  2016-0003 2016-01-03  2016   1   3  CONDUCTOR    MOTO  MASCULINO   30   \n",
       "3  2016-0004 2016-01-10  2016   1  10  CONDUCTOR    MOTO  MASCULINO   18   \n",
       "4  2016-0005 2016-01-21  2016   1  21  CONDUCTOR    MOTO  MASCULINO   29   \n",
       "\n",
       "   FECHA_FALLECIMIENTO  \n",
       "0  2016-01-01 00:00:00  \n",
       "1  2016-01-02 00:00:00  \n",
       "2  2016-01-03 00:00:00  \n",
       "3                   SD  \n",
       "4  2016-02-01 00:00:00  "
      ]
     },
     "execution_count": 43,
     "metadata": {},
     "output_type": "execute_result"
    }
   ],
   "source": [
    "# Muestra las primeras filas del dataframe\n",
    "df_victimas.head()"
   ]
  },
  {
   "cell_type": "code",
   "execution_count": 44,
   "metadata": {},
   "outputs": [
    {
     "name": "stdout",
     "output_type": "stream",
     "text": [
      "<class 'pandas.core.frame.DataFrame'>\n",
      "RangeIndex: 717 entries, 0 to 716\n",
      "Data columns (total 10 columns):\n",
      " #   Column               Non-Null Count  Dtype         \n",
      "---  ------               --------------  -----         \n",
      " 0   ID_hecho             717 non-null    object        \n",
      " 1   FECHA                717 non-null    datetime64[ns]\n",
      " 2   AAAA                 717 non-null    int64         \n",
      " 3   MM                   717 non-null    int64         \n",
      " 4   DD                   717 non-null    int64         \n",
      " 5   ROL                  717 non-null    object        \n",
      " 6   VICTIMA              717 non-null    object        \n",
      " 7   SEXO                 717 non-null    object        \n",
      " 8   EDAD                 717 non-null    object        \n",
      " 9   FECHA_FALLECIMIENTO  717 non-null    object        \n",
      "dtypes: datetime64[ns](1), int64(3), object(6)\n",
      "memory usage: 56.1+ KB\n"
     ]
    }
   ],
   "source": [
    "# Brinda información resumida del dataframe\n",
    "df_victimas.info()"
   ]
  },
  {
   "cell_type": "code",
   "execution_count": 45,
   "metadata": {},
   "outputs": [
    {
     "data": {
      "text/plain": [
       "ID_hecho               0\n",
       "FECHA                  0\n",
       "AAAA                   0\n",
       "MM                     0\n",
       "DD                     0\n",
       "ROL                    0\n",
       "VICTIMA                0\n",
       "SEXO                   0\n",
       "EDAD                   0\n",
       "FECHA_FALLECIMIENTO    0\n",
       "dtype: int64"
      ]
     },
     "execution_count": 45,
     "metadata": {},
     "output_type": "execute_result"
    }
   ],
   "source": [
    "# Cuenta la cantidad de filas con valores nulos en cada columna\n",
    "df_victimas.isnull().sum()"
   ]
  },
  {
   "cell_type": "markdown",
   "metadata": {},
   "source": [
    "##### Cambio de formato"
   ]
  },
  {
   "cell_type": "code",
   "execution_count": 46,
   "metadata": {},
   "outputs": [],
   "source": [
    "# Cambia las columnas a formato numerico\n",
    "df_victimas['EDAD'] = pd.to_numeric(df_victimas['EDAD'], downcast='integer', errors='coerce')"
   ]
  },
  {
   "cell_type": "code",
   "execution_count": 47,
   "metadata": {},
   "outputs": [],
   "source": [
    "#Cambia el tipo de datos a solo fecha\n",
    "df_victimas['FECHA_FALLECIMIENTO'] = pd.to_datetime(df_victimas['FECHA_FALLECIMIENTO'], errors='coerce')\n",
    "# Extraer solo la parte de la fecha\n",
    "df_victimas['FECHA_FALLECIMIENTO'] = df_victimas['FECHA_FALLECIMIENTO'].dt.date"
   ]
  },
  {
   "cell_type": "markdown",
   "metadata": {},
   "source": [
    "Durante el proceso de conversión de formato, se identificaron nuevos datos nulos en las columnas 'EDAD' y 'FECHA_FALLECIMIENTO'. Al examinar esta fila específica en los datos originales, se observó que estos valores faltantes corresponden a 'SD', indicando que no hay datos disponibles. Aunque no es posible imputar estos datos, no se decide eliminarlos, ya que no afectan los cálculos que se pretenden realizar."
   ]
  },
  {
   "cell_type": "code",
   "execution_count": 48,
   "metadata": {},
   "outputs": [
    {
     "name": "stdout",
     "output_type": "stream",
     "text": [
      "      ID_hecho      FECHA  AAAA  MM  DD                   ROL    VICTIMA  \\\n",
      "30   2016-0041 2016-03-29  2016   3  29  PASAJERO_ACOMPAÑANTE       MOTO   \n",
      "33   2016-0045 2016-04-11  2016   4  11             CONDUCTOR       MOTO   \n",
      "35   2016-0048 2016-04-15  2016   4  15                PEATON     PEATON   \n",
      "36   2016-0049 2016-04-17  2016   4  17                    SD         SD   \n",
      "39   2016-0052 2016-04-20  2016   4  20                    SD       MOTO   \n",
      "55   2016-0077 2016-06-13  2016   6  13                PEATON     PEATON   \n",
      "63   2016-0085 2016-06-29  2016   6  29                    SD       MOTO   \n",
      "72   2016-0096 2016-07-25  2016   7  25             CONDUCTOR       MOTO   \n",
      "89   2016-0115 2016-09-02  2016   9   2                    SD         SD   \n",
      "93   2016-0119 2016-09-04  2016   9   4  PASAJERO_ACOMPAÑANTE         SD   \n",
      "108  2016-0136 2016-10-25  2016  10  25             CONDUCTOR       MOTO   \n",
      "119  2016-0148 2016-11-16  2016  11  16             CONDUCTOR       MOTO   \n",
      "121  2016-0151 2016-11-18  2016  11  18                PEATON     PEATON   \n",
      "138  2016-0171 2016-12-25  2016  12  25             CONDUCTOR       MOTO   \n",
      "141  2016-0174 2016-12-27  2016  12  27                    SD         SD   \n",
      "142  2016-0175 2016-12-27  2016  12  27                PEATON     PEATON   \n",
      "165  2017-0027 2017-02-26  2017   2  26                PEATON     PEATON   \n",
      "176  2017-0036 2017-03-29  2017   3  29  PASAJERO_ACOMPAÑANTE       MOTO   \n",
      "182  2017-0042 2017-04-10  2017   4  10             CONDUCTOR       MOTO   \n",
      "225  2017-0093 2017-07-25  2017   7  25                PEATON     PEATON   \n",
      "243  2017-0112 2017-09-10  2017   9  10  PASAJERO_ACOMPAÑANTE       AUTO   \n",
      "275  2017-0151 2017-12-04  2017  12   4                PEATON     PEATON   \n",
      "277  2017-0153 2017-12-11  2017  12  11  PASAJERO_ACOMPAÑANTE       MOTO   \n",
      "299  2018-0014 2018-01-31  2018   1  31                PEATON     PEATON   \n",
      "328  2018-0040 2018-04-27  2018   4  27                PEATON     PEATON   \n",
      "359  2018-0071 2018-07-10  2018   7  10             CONDUCTOR       MOTO   \n",
      "367  2018-0079 2018-07-23  2018   7  23                PEATON     PEATON   \n",
      "371  2018-0083 2018-08-02  2018   8   2             CONDUCTOR       MOTO   \n",
      "377  2018-0088 2018-08-17  2018   8  17             CONDUCTOR       MOTO   \n",
      "391  2018-0101 2018-09-21  2018   9  21             CONDUCTOR       AUTO   \n",
      "421  2018-0130 2018-12-03  2018  12   3             CONDUCTOR       MOTO   \n",
      "444  2019-0010 2019-02-02  2019   2   2                PEATON     PEATON   \n",
      "446  2019-0011 2019-02-10  2019   2  10                PEATON     PEATON   \n",
      "454  2019-0019 2019-03-06  2019   3   6             CONDUCTOR       MOTO   \n",
      "457  2019-0022 2019-03-15  2019   3  15  PASAJERO_ACOMPAÑANTE       AUTO   \n",
      "461  2019-0026 2019-03-28  2019   3  28                PEATON     PEATON   \n",
      "463  2019-0028 2019-04-06  2019   4   6                PEATON     PEATON   \n",
      "469  2019-0034 2019-04-21  2019   4  21             CONDUCTOR       MOTO   \n",
      "479  2019-0043 2019-05-21  2019   5  21              CICLISTA  BICICLETA   \n",
      "498  2019-0063 2019-08-04  2019   8   4  PASAJERO_ACOMPAÑANTE       MOTO   \n",
      "506  2019-0071 2019-08-27  2019   8  27                PEATON     PEATON   \n",
      "529  2019-0094 2019-11-18  2019  11  18  PASAJERO_ACOMPAÑANTE       MOTO   \n",
      "530  2019-0095 2019-11-20  2019  11  20             CONDUCTOR       MOTO   \n",
      "548  2020-0010 2020-02-08  2020   2   8             CONDUCTOR       MOTO   \n",
      "552  2020-0014 2020-02-27  2020   2  27             CONDUCTOR       MOTO   \n",
      "555  2020-0017 2020-03-05  2020   3   5                PEATON     PEATON   \n",
      "563  2020-0025 2020-05-12  2020   5  12                PEATON     PEATON   \n",
      "572  2020-0034 2020-08-02  2020   8   2                PEATON     PEATON   \n",
      "579  2020-0040 2020-09-12  2020   9  12             CONDUCTOR       AUTO   \n",
      "631  2021-0012 2021-01-29  2021   1  29                PEATON     PEATON   \n",
      "639  2021-0020 2021-02-21  2021   2  21                PEATON     PEATON   \n",
      "647  2021-0028 2021-03-29  2021   3  29                PEATON     PEATON   \n",
      "698  2021-0079 2021-10-25  2021  10  25                PEATON     PEATON   \n",
      "\n",
      "          SEXO  EDAD FECHA_FALLECIMIENTO  \n",
      "30   MASCULINO   NaN          2016-03-30  \n",
      "33   MASCULINO   NaN                 NaT  \n",
      "35    FEMENINO   NaN                 NaT  \n",
      "36          SD   NaN                 NaT  \n",
      "39          SD   NaN                 NaT  \n",
      "55    FEMENINO   NaN                 NaT  \n",
      "63   MASCULINO   NaN                 NaT  \n",
      "72   MASCULINO   NaN                 NaT  \n",
      "89   MASCULINO   NaN                 NaT  \n",
      "93    FEMENINO   NaN                 NaT  \n",
      "108         SD   NaN                 NaT  \n",
      "119  MASCULINO   NaN                 NaT  \n",
      "121         SD   NaN                 NaT  \n",
      "138         SD   NaN                 NaT  \n",
      "141         SD   NaN                 NaT  \n",
      "142   FEMENINO   NaN                 NaT  \n",
      "165  MASCULINO   NaN          2017-02-26  \n",
      "176   FEMENINO   NaN          2017-03-29  \n",
      "182  MASCULINO   NaN          2017-04-10  \n",
      "225  MASCULINO   NaN          2017-07-25  \n",
      "243  MASCULINO   NaN          2017-09-13  \n",
      "275  MASCULINO   NaN          2017-12-04  \n",
      "277  MASCULINO   NaN          2017-12-12  \n",
      "299  MASCULINO   NaN          2018-02-04  \n",
      "328   FEMENINO   NaN          2018-04-27  \n",
      "359  MASCULINO   NaN          2018-07-10  \n",
      "367  MASCULINO   NaN          2018-07-23  \n",
      "371  MASCULINO   NaN          2018-08-02  \n",
      "377  MASCULINO   NaN          2018-08-17  \n",
      "391  MASCULINO   NaN          2018-09-21  \n",
      "421  MASCULINO   NaN          2018-12-03  \n",
      "444  MASCULINO   NaN          2019-02-02  \n",
      "446  MASCULINO   NaN          2019-02-10  \n",
      "454  MASCULINO   NaN          2019-03-26  \n",
      "457  MASCULINO   NaN          2019-03-15  \n",
      "461  MASCULINO   NaN          2019-03-28  \n",
      "463   FEMENINO   NaN          2019-04-06  \n",
      "469  MASCULINO   NaN          2019-04-21  \n",
      "479   FEMENINO   NaN          2019-05-21  \n",
      "498  MASCULINO   NaN          2019-08-04  \n",
      "506  MASCULINO   NaN          2019-08-27  \n",
      "529   FEMENINO   NaN          2019-11-18  \n",
      "530  MASCULINO   NaN          2019-11-20  \n",
      "548  MASCULINO   NaN          2020-02-08  \n",
      "552  MASCULINO   NaN          2020-02-27  \n",
      "555  MASCULINO   NaN          2020-03-05  \n",
      "563  MASCULINO   NaN          2020-05-12  \n",
      "572   FEMENINO   NaN          2020-08-02  \n",
      "579  MASCULINO   NaN          2020-09-12  \n",
      "631  MASCULINO   NaN          2021-01-29  \n",
      "639   FEMENINO   NaN          2021-02-21  \n",
      "647  MASCULINO   NaN          2021-03-29  \n",
      "698  MASCULINO   NaN          2021-10-25  \n"
     ]
    }
   ],
   "source": [
    "# Muestra las filas con datos nulos en la columna EDAD\n",
    "nulos_edad = df_victimas[df_victimas['EDAD'].isnull()]\n",
    "print(nulos_edad)"
   ]
  },
  {
   "cell_type": "code",
   "execution_count": 49,
   "metadata": {},
   "outputs": [
    {
     "name": "stdout",
     "output_type": "stream",
     "text": [
      "      ID_hecho      FECHA  AAAA  MM  DD                   ROL VICTIMA  \\\n",
      "3    2016-0004 2016-01-10  2016   1  10             CONDUCTOR    MOTO   \n",
      "16   2016-0022 2016-02-21  2016   2  21  PASAJERO_ACOMPAÑANTE    MOTO   \n",
      "19   2016-0027 2016-02-28  2016   2  28  PASAJERO_ACOMPAÑANTE    AUTO   \n",
      "22   2016-0031 2016-03-08  2016   3   8             CONDUCTOR    MOTO   \n",
      "33   2016-0045 2016-04-11  2016   4  11             CONDUCTOR    MOTO   \n",
      "..         ...        ...   ...  ..  ..                   ...     ...   \n",
      "221  2017-0089 2017-07-13  2017   7  13                    SD      SD   \n",
      "242  2017-0112 2017-09-10  2017   9  10  PASAJERO_ACOMPAÑANTE    AUTO   \n",
      "246  2017-0115 2017-09-19  2017   9  19             CONDUCTOR    MOTO   \n",
      "253  2017-0126 2017-10-14  2017  10  14  PASAJERO_ACOMPAÑANTE    AUTO   \n",
      "280  2017-0155 2017-12-12  2017  12  12                    SD      SD   \n",
      "\n",
      "          SEXO  EDAD FECHA_FALLECIMIENTO  \n",
      "3    MASCULINO  18.0                 NaN  \n",
      "16   MASCULINO  41.0                 NaN  \n",
      "19   MASCULINO  34.0                 NaN  \n",
      "22   MASCULINO  21.0                 NaN  \n",
      "33   MASCULINO   NaN                 NaN  \n",
      "..         ...   ...                 ...  \n",
      "221  MASCULINO  23.0                 NaN  \n",
      "242  MASCULINO   1.0                 NaN  \n",
      "246  MASCULINO  34.0                 NaN  \n",
      "253  MASCULINO  39.0                 NaN  \n",
      "280  MASCULINO  77.0                 NaN  \n",
      "\n",
      "[68 rows x 10 columns]\n"
     ]
    }
   ],
   "source": [
    "# Muestra las filas con datos nulos en la columna FECHA_FALLECIMIENTO\n",
    "nulos_fecha_fallecimiento = df_victimas[df_victimas['FECHA_FALLECIMIENTO'].isnull()]\n",
    "print(nulos_fecha_fallecimiento)"
   ]
  },
  {
   "cell_type": "markdown",
   "metadata": {},
   "source": [
    "##### Revisión de valores únicos"
   ]
  },
  {
   "cell_type": "code",
   "execution_count": 50,
   "metadata": {},
   "outputs": [
    {
     "data": {
      "text/plain": [
       "array([2016, 2017, 2018, 2019, 2020, 2021], dtype=int64)"
      ]
     },
     "execution_count": 50,
     "metadata": {},
     "output_type": "execute_result"
    }
   ],
   "source": [
    "# Revisa valores únicos de la columna AAAA\n",
    "df_victimas['AAAA'].unique()"
   ]
  },
  {
   "cell_type": "markdown",
   "metadata": {},
   "source": [
    "Los valores de la columna AAAA estan acordes a los años correspondientes al periodoo de tiempo registrado."
   ]
  },
  {
   "cell_type": "code",
   "execution_count": 51,
   "metadata": {},
   "outputs": [
    {
     "data": {
      "text/plain": [
       "array([ 1,  2,  3,  4,  5,  6,  7,  8,  9, 10, 11, 12], dtype=int64)"
      ]
     },
     "execution_count": 51,
     "metadata": {},
     "output_type": "execute_result"
    }
   ],
   "source": [
    "# Revisa valores únicos de la columna MM\n",
    "df_victimas['MM'].unique()"
   ]
  },
  {
   "cell_type": "markdown",
   "metadata": {},
   "source": [
    "Los valores de al columna MM corresponden a la numeración de los meses."
   ]
  },
  {
   "cell_type": "code",
   "execution_count": 52,
   "metadata": {},
   "outputs": [
    {
     "data": {
      "text/plain": [
       "array([ 1,  2,  3, 10, 21, 24, 29,  8, 14, 15, 17, 28,  4, 12, 13, 19, 23,\n",
       "       30, 31, 11, 20, 22, 25, 26, 16, 18, 27,  7,  9,  5,  6],\n",
       "      dtype=int64)"
      ]
     },
     "execution_count": 52,
     "metadata": {},
     "output_type": "execute_result"
    }
   ],
   "source": [
    "# Revisa valores únicos de la columna DD\n",
    "df_victimas['DD'].unique()"
   ]
  },
  {
   "cell_type": "markdown",
   "metadata": {},
   "source": [
    "Los valores de al columna DD corresponden a la numeración de los días del mes."
   ]
  },
  {
   "cell_type": "code",
   "execution_count": 53,
   "metadata": {},
   "outputs": [
    {
     "data": {
      "text/plain": [
       "array(['CONDUCTOR', 'PASAJERO_ACOMPAÑANTE', 'PEATON', 'SD', 'CICLISTA'],\n",
       "      dtype=object)"
      ]
     },
     "execution_count": 53,
     "metadata": {},
     "output_type": "execute_result"
    }
   ],
   "source": [
    "# Revisa valores únicos de la columna ROL\n",
    "df_victimas['ROL'].unique()"
   ]
  },
  {
   "cell_type": "markdown",
   "metadata": {},
   "source": [
    "Los valores de la columna 'ROL' corresponden a los mismos definidos en el diccionario de datos."
   ]
  },
  {
   "cell_type": "code",
   "execution_count": 54,
   "metadata": {},
   "outputs": [
    {
     "data": {
      "text/plain": [
       "array(['MOTO', 'AUTO', 'PEATON', 'SD', 'CARGAS', 'BICICLETA', 'PASAJEROS',\n",
       "       'MOVIL'], dtype=object)"
      ]
     },
     "execution_count": 54,
     "metadata": {},
     "output_type": "execute_result"
    }
   ],
   "source": [
    "# Revisa valores únicos de la columna VICTIMA\n",
    "df_victimas['VICTIMA'].unique()"
   ]
  },
  {
   "cell_type": "markdown",
   "metadata": {},
   "source": [
    "Los valores de la columna 'VICTIMA' corresponden a los mismos definidos en el diccionario de datos."
   ]
  },
  {
   "cell_type": "code",
   "execution_count": 55,
   "metadata": {},
   "outputs": [
    {
     "data": {
      "text/plain": [
       "array(['MASCULINO', 'FEMENINO', 'SD'], dtype=object)"
      ]
     },
     "execution_count": 55,
     "metadata": {},
     "output_type": "execute_result"
    }
   ],
   "source": [
    "# Revisa valores únicos de la columna SEXO\n",
    "df_victimas['SEXO'].unique()"
   ]
  },
  {
   "cell_type": "code",
   "execution_count": 56,
   "metadata": {},
   "outputs": [
    {
     "data": {
      "text/plain": [
       "SEXO\n",
       "MASCULINO    545\n",
       "FEMENINO     166\n",
       "SD             6\n",
       "Name: count, dtype: int64"
      ]
     },
     "execution_count": 56,
     "metadata": {},
     "output_type": "execute_result"
    }
   ],
   "source": [
    "# Cuenta la cantidad de cada valor en la columna SEXO\n",
    "df_victimas['SEXO'].value_counts()"
   ]
  },
  {
   "cell_type": "markdown",
   "metadata": {},
   "source": [
    "En la columna 'SEXO' encontro el valor 'SD', este indica que no se tiene el dato disponible, es decir, es un valor faltante, se decide imputar este dato por la moda, ya que es valor mas comun en la columna y, por lo tanto, es una aproximación razonable para los valores faltantes. Además, al ser solo un pequeño número de filas, la imputación no debería tener un gran impacto en los resultados del análisis."
   ]
  },
  {
   "cell_type": "code",
   "execution_count": 57,
   "metadata": {},
   "outputs": [],
   "source": [
    "# Imputar los valores faltantes en la columna de sexo utilizando la moda\n",
    "moda_sexo = df_victimas['SEXO'].mode()[0]\n",
    "df_victimas['SEXO'] = df_victimas['SEXO'].replace('SD', moda_sexo)"
   ]
  },
  {
   "cell_type": "markdown",
   "metadata": {},
   "source": [
    "#### Estadísticas descriptivas"
   ]
  },
  {
   "cell_type": "code",
   "execution_count": 58,
   "metadata": {},
   "outputs": [
    {
     "data": {
      "text/html": [
       "<div>\n",
       "<style scoped>\n",
       "    .dataframe tbody tr th:only-of-type {\n",
       "        vertical-align: middle;\n",
       "    }\n",
       "\n",
       "    .dataframe tbody tr th {\n",
       "        vertical-align: top;\n",
       "    }\n",
       "\n",
       "    .dataframe thead th {\n",
       "        text-align: right;\n",
       "    }\n",
       "</style>\n",
       "<table border=\"1\" class=\"dataframe\">\n",
       "  <thead>\n",
       "    <tr style=\"text-align: right;\">\n",
       "      <th></th>\n",
       "      <th>ID_hecho</th>\n",
       "      <th>FECHA</th>\n",
       "      <th>AAAA</th>\n",
       "      <th>MM</th>\n",
       "      <th>DD</th>\n",
       "      <th>ROL</th>\n",
       "      <th>VICTIMA</th>\n",
       "      <th>SEXO</th>\n",
       "      <th>EDAD</th>\n",
       "      <th>FECHA_FALLECIMIENTO</th>\n",
       "    </tr>\n",
       "  </thead>\n",
       "  <tbody>\n",
       "    <tr>\n",
       "      <th>count</th>\n",
       "      <td>717</td>\n",
       "      <td>717</td>\n",
       "      <td>717.000000</td>\n",
       "      <td>717.000000</td>\n",
       "      <td>717.000000</td>\n",
       "      <td>717</td>\n",
       "      <td>717</td>\n",
       "      <td>717</td>\n",
       "      <td>664.000000</td>\n",
       "      <td>649</td>\n",
       "    </tr>\n",
       "    <tr>\n",
       "      <th>unique</th>\n",
       "      <td>696</td>\n",
       "      <td>NaN</td>\n",
       "      <td>NaN</td>\n",
       "      <td>NaN</td>\n",
       "      <td>NaN</td>\n",
       "      <td>5</td>\n",
       "      <td>8</td>\n",
       "      <td>2</td>\n",
       "      <td>NaN</td>\n",
       "      <td>562</td>\n",
       "    </tr>\n",
       "    <tr>\n",
       "      <th>top</th>\n",
       "      <td>2017-0035</td>\n",
       "      <td>NaN</td>\n",
       "      <td>NaN</td>\n",
       "      <td>NaN</td>\n",
       "      <td>NaN</td>\n",
       "      <td>CONDUCTOR</td>\n",
       "      <td>MOTO</td>\n",
       "      <td>MASCULINO</td>\n",
       "      <td>NaN</td>\n",
       "      <td>2017-02-26</td>\n",
       "    </tr>\n",
       "    <tr>\n",
       "      <th>freq</th>\n",
       "      <td>3</td>\n",
       "      <td>NaN</td>\n",
       "      <td>NaN</td>\n",
       "      <td>NaN</td>\n",
       "      <td>NaN</td>\n",
       "      <td>330</td>\n",
       "      <td>303</td>\n",
       "      <td>551</td>\n",
       "      <td>NaN</td>\n",
       "      <td>3</td>\n",
       "    </tr>\n",
       "    <tr>\n",
       "      <th>mean</th>\n",
       "      <td>NaN</td>\n",
       "      <td>2018-09-09 01:36:24.100418304</td>\n",
       "      <td>2018.174338</td>\n",
       "      <td>6.688982</td>\n",
       "      <td>15.960948</td>\n",
       "      <td>NaN</td>\n",
       "      <td>NaN</td>\n",
       "      <td>NaN</td>\n",
       "      <td>42.167169</td>\n",
       "      <td>NaN</td>\n",
       "    </tr>\n",
       "    <tr>\n",
       "      <th>min</th>\n",
       "      <td>NaN</td>\n",
       "      <td>2016-01-01 00:00:00</td>\n",
       "      <td>2016.000000</td>\n",
       "      <td>1.000000</td>\n",
       "      <td>1.000000</td>\n",
       "      <td>NaN</td>\n",
       "      <td>NaN</td>\n",
       "      <td>NaN</td>\n",
       "      <td>1.000000</td>\n",
       "      <td>NaN</td>\n",
       "    </tr>\n",
       "    <tr>\n",
       "      <th>25%</th>\n",
       "      <td>NaN</td>\n",
       "      <td>2017-04-01 00:00:00</td>\n",
       "      <td>2017.000000</td>\n",
       "      <td>4.000000</td>\n",
       "      <td>9.000000</td>\n",
       "      <td>NaN</td>\n",
       "      <td>NaN</td>\n",
       "      <td>NaN</td>\n",
       "      <td>27.000000</td>\n",
       "      <td>NaN</td>\n",
       "    </tr>\n",
       "    <tr>\n",
       "      <th>50%</th>\n",
       "      <td>NaN</td>\n",
       "      <td>2018-07-07 00:00:00</td>\n",
       "      <td>2018.000000</td>\n",
       "      <td>7.000000</td>\n",
       "      <td>16.000000</td>\n",
       "      <td>NaN</td>\n",
       "      <td>NaN</td>\n",
       "      <td>NaN</td>\n",
       "      <td>37.000000</td>\n",
       "      <td>NaN</td>\n",
       "    </tr>\n",
       "    <tr>\n",
       "      <th>75%</th>\n",
       "      <td>NaN</td>\n",
       "      <td>2019-12-18 00:00:00</td>\n",
       "      <td>2019.000000</td>\n",
       "      <td>10.000000</td>\n",
       "      <td>23.000000</td>\n",
       "      <td>NaN</td>\n",
       "      <td>NaN</td>\n",
       "      <td>NaN</td>\n",
       "      <td>56.250000</td>\n",
       "      <td>NaN</td>\n",
       "    </tr>\n",
       "    <tr>\n",
       "      <th>max</th>\n",
       "      <td>NaN</td>\n",
       "      <td>2021-12-30 00:00:00</td>\n",
       "      <td>2021.000000</td>\n",
       "      <td>12.000000</td>\n",
       "      <td>31.000000</td>\n",
       "      <td>NaN</td>\n",
       "      <td>NaN</td>\n",
       "      <td>NaN</td>\n",
       "      <td>95.000000</td>\n",
       "      <td>NaN</td>\n",
       "    </tr>\n",
       "    <tr>\n",
       "      <th>std</th>\n",
       "      <td>NaN</td>\n",
       "      <td>NaN</td>\n",
       "      <td>1.672655</td>\n",
       "      <td>3.575140</td>\n",
       "      <td>8.683358</td>\n",
       "      <td>NaN</td>\n",
       "      <td>NaN</td>\n",
       "      <td>NaN</td>\n",
       "      <td>19.788034</td>\n",
       "      <td>NaN</td>\n",
       "    </tr>\n",
       "  </tbody>\n",
       "</table>\n",
       "</div>"
      ],
      "text/plain": [
       "         ID_hecho                          FECHA         AAAA          MM  \\\n",
       "count         717                            717   717.000000  717.000000   \n",
       "unique        696                            NaN          NaN         NaN   \n",
       "top     2017-0035                            NaN          NaN         NaN   \n",
       "freq            3                            NaN          NaN         NaN   \n",
       "mean          NaN  2018-09-09 01:36:24.100418304  2018.174338    6.688982   \n",
       "min           NaN            2016-01-01 00:00:00  2016.000000    1.000000   \n",
       "25%           NaN            2017-04-01 00:00:00  2017.000000    4.000000   \n",
       "50%           NaN            2018-07-07 00:00:00  2018.000000    7.000000   \n",
       "75%           NaN            2019-12-18 00:00:00  2019.000000   10.000000   \n",
       "max           NaN            2021-12-30 00:00:00  2021.000000   12.000000   \n",
       "std           NaN                            NaN     1.672655    3.575140   \n",
       "\n",
       "                DD        ROL VICTIMA       SEXO        EDAD  \\\n",
       "count   717.000000        717     717        717  664.000000   \n",
       "unique         NaN          5       8          2         NaN   \n",
       "top            NaN  CONDUCTOR    MOTO  MASCULINO         NaN   \n",
       "freq           NaN        330     303        551         NaN   \n",
       "mean     15.960948        NaN     NaN        NaN   42.167169   \n",
       "min       1.000000        NaN     NaN        NaN    1.000000   \n",
       "25%       9.000000        NaN     NaN        NaN   27.000000   \n",
       "50%      16.000000        NaN     NaN        NaN   37.000000   \n",
       "75%      23.000000        NaN     NaN        NaN   56.250000   \n",
       "max      31.000000        NaN     NaN        NaN   95.000000   \n",
       "std       8.683358        NaN     NaN        NaN   19.788034   \n",
       "\n",
       "       FECHA_FALLECIMIENTO  \n",
       "count                  649  \n",
       "unique                 562  \n",
       "top             2017-02-26  \n",
       "freq                     3  \n",
       "mean                   NaN  \n",
       "min                    NaN  \n",
       "25%                    NaN  \n",
       "50%                    NaN  \n",
       "75%                    NaN  \n",
       "max                    NaN  \n",
       "std                    NaN  "
      ]
     },
     "execution_count": 58,
     "metadata": {},
     "output_type": "execute_result"
    }
   ],
   "source": [
    "df_victimas.describe(include='all')"
   ]
  },
  {
   "cell_type": "markdown",
   "metadata": {},
   "source": [
    "- La columna ID_hecho tiene 21 valores duplicados. Esto se debe a que hubo accidentes con más de una víctima, por lo que la información de la segunda víctima en adelante se registra en una nueva fila.\n",
    "\n",
    "- El rol que presenta la mayor cantidad de accidentes es el de conductor con 330 registros; conocer los roles mas vulnerables puede ayudar a enfocar las políticas de prevención.\n",
    "\n",
    "- El genero masculino es el que tiene mayor ocurrencia de accidentes con un total de 545 registros."
   ]
  },
  {
   "cell_type": "code",
   "execution_count": 59,
   "metadata": {},
   "outputs": [
    {
     "data": {
      "text/html": [
       "<div>\n",
       "<style scoped>\n",
       "    .dataframe tbody tr th:only-of-type {\n",
       "        vertical-align: middle;\n",
       "    }\n",
       "\n",
       "    .dataframe tbody tr th {\n",
       "        vertical-align: top;\n",
       "    }\n",
       "\n",
       "    .dataframe thead th {\n",
       "        text-align: right;\n",
       "    }\n",
       "</style>\n",
       "<table border=\"1\" class=\"dataframe\">\n",
       "  <thead>\n",
       "    <tr style=\"text-align: right;\">\n",
       "      <th></th>\n",
       "      <th>ID_hecho</th>\n",
       "      <th>FECHA</th>\n",
       "      <th>AAAA</th>\n",
       "      <th>MM</th>\n",
       "      <th>DD</th>\n",
       "      <th>ROL</th>\n",
       "      <th>VICTIMA</th>\n",
       "      <th>SEXO</th>\n",
       "      <th>EDAD</th>\n",
       "      <th>FECHA_FALLECIMIENTO</th>\n",
       "    </tr>\n",
       "  </thead>\n",
       "  <tbody>\n",
       "    <tr>\n",
       "      <th>29</th>\n",
       "      <td>2016-0041</td>\n",
       "      <td>2016-03-29</td>\n",
       "      <td>2016</td>\n",
       "      <td>3</td>\n",
       "      <td>29</td>\n",
       "      <td>CONDUCTOR</td>\n",
       "      <td>MOTO</td>\n",
       "      <td>MASCULINO</td>\n",
       "      <td>54.0</td>\n",
       "      <td>2016-03-29</td>\n",
       "    </tr>\n",
       "    <tr>\n",
       "      <th>30</th>\n",
       "      <td>2016-0041</td>\n",
       "      <td>2016-03-29</td>\n",
       "      <td>2016</td>\n",
       "      <td>3</td>\n",
       "      <td>29</td>\n",
       "      <td>PASAJERO_ACOMPAÑANTE</td>\n",
       "      <td>MOTO</td>\n",
       "      <td>MASCULINO</td>\n",
       "      <td>NaN</td>\n",
       "      <td>2016-03-30</td>\n",
       "    </tr>\n",
       "    <tr>\n",
       "      <th>98</th>\n",
       "      <td>2016-0126</td>\n",
       "      <td>2016-09-18</td>\n",
       "      <td>2016</td>\n",
       "      <td>9</td>\n",
       "      <td>18</td>\n",
       "      <td>CONDUCTOR</td>\n",
       "      <td>AUTO</td>\n",
       "      <td>MASCULINO</td>\n",
       "      <td>37.0</td>\n",
       "      <td>NaT</td>\n",
       "    </tr>\n",
       "    <tr>\n",
       "      <th>99</th>\n",
       "      <td>2016-0126</td>\n",
       "      <td>2016-09-18</td>\n",
       "      <td>2016</td>\n",
       "      <td>9</td>\n",
       "      <td>18</td>\n",
       "      <td>PASAJERO_ACOMPAÑANTE</td>\n",
       "      <td>AUTO</td>\n",
       "      <td>MASCULINO</td>\n",
       "      <td>60.0</td>\n",
       "      <td>NaT</td>\n",
       "    </tr>\n",
       "    <tr>\n",
       "      <th>163</th>\n",
       "      <td>2017-0026</td>\n",
       "      <td>2017-02-26</td>\n",
       "      <td>2017</td>\n",
       "      <td>2</td>\n",
       "      <td>26</td>\n",
       "      <td>PASAJERO_ACOMPAÑANTE</td>\n",
       "      <td>AUTO</td>\n",
       "      <td>FEMENINO</td>\n",
       "      <td>23.0</td>\n",
       "      <td>2017-02-26</td>\n",
       "    </tr>\n",
       "    <tr>\n",
       "      <th>164</th>\n",
       "      <td>2017-0026</td>\n",
       "      <td>2017-02-26</td>\n",
       "      <td>2017</td>\n",
       "      <td>2</td>\n",
       "      <td>26</td>\n",
       "      <td>CONDUCTOR</td>\n",
       "      <td>AUTO</td>\n",
       "      <td>MASCULINO</td>\n",
       "      <td>19.0</td>\n",
       "      <td>2017-02-26</td>\n",
       "    </tr>\n",
       "    <tr>\n",
       "      <th>173</th>\n",
       "      <td>2017-0035</td>\n",
       "      <td>2017-03-23</td>\n",
       "      <td>2017</td>\n",
       "      <td>3</td>\n",
       "      <td>23</td>\n",
       "      <td>CONDUCTOR</td>\n",
       "      <td>AUTO</td>\n",
       "      <td>MASCULINO</td>\n",
       "      <td>28.0</td>\n",
       "      <td>2017-03-23</td>\n",
       "    </tr>\n",
       "    <tr>\n",
       "      <th>174</th>\n",
       "      <td>2017-0035</td>\n",
       "      <td>2017-03-23</td>\n",
       "      <td>2017</td>\n",
       "      <td>3</td>\n",
       "      <td>23</td>\n",
       "      <td>PASAJERO_ACOMPAÑANTE</td>\n",
       "      <td>AUTO</td>\n",
       "      <td>MASCULINO</td>\n",
       "      <td>32.0</td>\n",
       "      <td>2017-03-23</td>\n",
       "    </tr>\n",
       "    <tr>\n",
       "      <th>175</th>\n",
       "      <td>2017-0035</td>\n",
       "      <td>2017-03-23</td>\n",
       "      <td>2017</td>\n",
       "      <td>3</td>\n",
       "      <td>23</td>\n",
       "      <td>PASAJERO_ACOMPAÑANTE</td>\n",
       "      <td>AUTO</td>\n",
       "      <td>MASCULINO</td>\n",
       "      <td>30.0</td>\n",
       "      <td>2017-03-23</td>\n",
       "    </tr>\n",
       "  </tbody>\n",
       "</table>\n",
       "</div>"
      ],
      "text/plain": [
       "      ID_hecho      FECHA  AAAA  MM  DD                   ROL VICTIMA  \\\n",
       "29   2016-0041 2016-03-29  2016   3  29             CONDUCTOR    MOTO   \n",
       "30   2016-0041 2016-03-29  2016   3  29  PASAJERO_ACOMPAÑANTE    MOTO   \n",
       "98   2016-0126 2016-09-18  2016   9  18             CONDUCTOR    AUTO   \n",
       "99   2016-0126 2016-09-18  2016   9  18  PASAJERO_ACOMPAÑANTE    AUTO   \n",
       "163  2017-0026 2017-02-26  2017   2  26  PASAJERO_ACOMPAÑANTE    AUTO   \n",
       "164  2017-0026 2017-02-26  2017   2  26             CONDUCTOR    AUTO   \n",
       "173  2017-0035 2017-03-23  2017   3  23             CONDUCTOR    AUTO   \n",
       "174  2017-0035 2017-03-23  2017   3  23  PASAJERO_ACOMPAÑANTE    AUTO   \n",
       "175  2017-0035 2017-03-23  2017   3  23  PASAJERO_ACOMPAÑANTE    AUTO   \n",
       "\n",
       "          SEXO  EDAD FECHA_FALLECIMIENTO  \n",
       "29   MASCULINO  54.0          2016-03-29  \n",
       "30   MASCULINO   NaN          2016-03-30  \n",
       "98   MASCULINO  37.0                 NaT  \n",
       "99   MASCULINO  60.0                 NaT  \n",
       "163   FEMENINO  23.0          2017-02-26  \n",
       "164  MASCULINO  19.0          2017-02-26  \n",
       "173  MASCULINO  28.0          2017-03-23  \n",
       "174  MASCULINO  32.0          2017-03-23  \n",
       "175  MASCULINO  30.0          2017-03-23  "
      ]
     },
     "execution_count": 59,
     "metadata": {},
     "output_type": "execute_result"
    }
   ],
   "source": [
    "# Filtra el df por filas duplicadas en la columna ID_hecho\n",
    "duplicados = df_victimas[df_victimas.duplicated('ID_hecho', keep=False)]\n",
    "\n",
    "# Mustra las filas duplicadas en la columna ID_hecho\n",
    "duplicados.head(9)"
   ]
  },
  {
   "cell_type": "markdown",
   "metadata": {},
   "source": [
    "#### Visualización de datos"
   ]
  },
  {
   "cell_type": "code",
   "execution_count": 60,
   "metadata": {},
   "outputs": [
    {
     "data": {
      "text/html": [
       "<div>\n",
       "<style scoped>\n",
       "    .dataframe tbody tr th:only-of-type {\n",
       "        vertical-align: middle;\n",
       "    }\n",
       "\n",
       "    .dataframe tbody tr th {\n",
       "        vertical-align: top;\n",
       "    }\n",
       "\n",
       "    .dataframe thead th {\n",
       "        text-align: right;\n",
       "    }\n",
       "</style>\n",
       "<table border=\"1\" class=\"dataframe\">\n",
       "  <thead>\n",
       "    <tr style=\"text-align: right;\">\n",
       "      <th></th>\n",
       "      <th>ROL</th>\n",
       "      <th>SEXO</th>\n",
       "      <th>Cantidad</th>\n",
       "    </tr>\n",
       "  </thead>\n",
       "  <tbody>\n",
       "    <tr>\n",
       "      <th>0</th>\n",
       "      <td>CICLISTA</td>\n",
       "      <td>FEMENINO</td>\n",
       "      <td>8</td>\n",
       "    </tr>\n",
       "    <tr>\n",
       "      <th>1</th>\n",
       "      <td>CICLISTA</td>\n",
       "      <td>MASCULINO</td>\n",
       "      <td>21</td>\n",
       "    </tr>\n",
       "    <tr>\n",
       "      <th>2</th>\n",
       "      <td>CONDUCTOR</td>\n",
       "      <td>FEMENINO</td>\n",
       "      <td>20</td>\n",
       "    </tr>\n",
       "    <tr>\n",
       "      <th>3</th>\n",
       "      <td>CONDUCTOR</td>\n",
       "      <td>MASCULINO</td>\n",
       "      <td>310</td>\n",
       "    </tr>\n",
       "    <tr>\n",
       "      <th>4</th>\n",
       "      <td>PASAJERO_ACOMPAÑANTE</td>\n",
       "      <td>FEMENINO</td>\n",
       "      <td>34</td>\n",
       "    </tr>\n",
       "    <tr>\n",
       "      <th>5</th>\n",
       "      <td>PASAJERO_ACOMPAÑANTE</td>\n",
       "      <td>MASCULINO</td>\n",
       "      <td>46</td>\n",
       "    </tr>\n",
       "    <tr>\n",
       "      <th>6</th>\n",
       "      <td>PEATON</td>\n",
       "      <td>FEMENINO</td>\n",
       "      <td>103</td>\n",
       "    </tr>\n",
       "    <tr>\n",
       "      <th>7</th>\n",
       "      <td>PEATON</td>\n",
       "      <td>MASCULINO</td>\n",
       "      <td>164</td>\n",
       "    </tr>\n",
       "    <tr>\n",
       "      <th>8</th>\n",
       "      <td>SD</td>\n",
       "      <td>FEMENINO</td>\n",
       "      <td>1</td>\n",
       "    </tr>\n",
       "    <tr>\n",
       "      <th>9</th>\n",
       "      <td>SD</td>\n",
       "      <td>MASCULINO</td>\n",
       "      <td>10</td>\n",
       "    </tr>\n",
       "  </tbody>\n",
       "</table>\n",
       "</div>"
      ],
      "text/plain": [
       "                    ROL       SEXO  Cantidad\n",
       "0              CICLISTA   FEMENINO         8\n",
       "1              CICLISTA  MASCULINO        21\n",
       "2             CONDUCTOR   FEMENINO        20\n",
       "3             CONDUCTOR  MASCULINO       310\n",
       "4  PASAJERO_ACOMPAÑANTE   FEMENINO        34\n",
       "5  PASAJERO_ACOMPAÑANTE  MASCULINO        46\n",
       "6                PEATON   FEMENINO       103\n",
       "7                PEATON  MASCULINO       164\n",
       "8                    SD   FEMENINO         1\n",
       "9                    SD  MASCULINO        10"
      ]
     },
     "execution_count": 60,
     "metadata": {},
     "output_type": "execute_result"
    }
   ],
   "source": [
    "# Muestra tabla de frecuencia de victima por rol y sexo\n",
    "rol_sexo_counts = df_victimas.groupby(['ROL', 'SEXO']).size().reset_index(name='Cantidad')\n",
    "rol_sexo_counts"
   ]
  },
  {
   "cell_type": "code",
   "execution_count": 61,
   "metadata": {},
   "outputs": [
    {
     "data": {
      "text/plain": [
       "<Figure size 1800x600 with 0 Axes>"
      ]
     },
     "metadata": {},
     "output_type": "display_data"
    },
    {
     "data": {
      "image/png": "[encoded data removed]",
      "text/plain": [
       "<Figure size 1200x600 with 1 Axes>"
      ]
     },
     "metadata": {},
     "output_type": "display_data"
    }
   ],
   "source": [
    "# Gráfico de barras rol de la víctima\n",
    "\n",
    "# Configura el estilo de Seaborn\n",
    "sns.set_style(\"whitegrid\")\n",
    "\n",
    "# Tabla de frecuencia de rol de la víctima\n",
    "rol_counts = df_victimas['ROL'].value_counts()\n",
    "\n",
    "# Configura el tamaño del gráfico\n",
    "plt.figure(figsize=(18, 6))\n",
    "\n",
    "# Crea el gráfico de barras\n",
    "g = sns.catplot(\n",
    "    data=rol_sexo_counts, kind=\"bar\",\n",
    "    x=\"ROL\", y=\"Cantidad\", hue=\"SEXO\",\n",
    "    palette=\"Paired\", alpha=.6, height=6,\n",
    "    aspect=2,  # Ajusta el aspecto para hacer las barras más anchas\n",
    "    \n",
    "    legend_out=False  # Mantiene la leyenda dentro del gráfico\n",
    ")\n",
    "g.despine(left=True)\n",
    "g.set_axis_labels(\"Rol de la víctima\", \"Cantidad de víctimas\")\n",
    "g.legend.set_title(\"Sexo\")\n",
    "\n",
    "# Añade un título\n",
    "plt.title('Rol de la víctimapor sexo', fontsize=16)\n",
    "\n",
    "# Aumenta el tamaño de la fuente en los ejes\n",
    "plt.xticks(fontsize=12)\n",
    "plt.yticks(fontsize=12)\n",
    "\n",
    "# Muestra el gráfico\n",
    "plt.show()"
   ]
  },
  {
   "cell_type": "markdown",
   "metadata": {},
   "source": [
    "Más del 83% de las victimas ocupabam el rol de conductor o peatón.lo que sugiere que estos roles son los más vulnerables al momento de ocurrir el accidente."
   ]
  },
  {
   "cell_type": "code",
   "execution_count": 62,
   "metadata": {},
   "outputs": [
    {
     "data": {
      "text/plain": [
       "SEXO\n",
       "MASCULINO    551\n",
       "FEMENINO     166\n",
       "Name: count, dtype: int64"
      ]
     },
     "execution_count": 62,
     "metadata": {},
     "output_type": "execute_result"
    }
   ],
   "source": [
    "# Muestra tabla de frecuencia de tipo de calle\n",
    "df_victimas['SEXO'].value_counts()"
   ]
  },
  {
   "cell_type": "code",
   "execution_count": 63,
   "metadata": {},
   "outputs": [
    {
     "data": {
      "image/png": "[encoded data removed]",
      "text/plain": [
       "<Figure size 600x600 with 1 Axes>"
      ]
     },
     "metadata": {},
     "output_type": "display_data"
    }
   ],
   "source": [
    "# Grafico de torta sexo\n",
    "\n",
    "# Configura el estilo de Seaborn\n",
    "sns.set_style(\"whitegrid\")\n",
    "\n",
    "# Tabla de frecuencia de tipo de calle\n",
    "sexo_counts = df_victimas['SEXO'].value_counts()\n",
    "\n",
    "# Configura el tamaño del gráfico\n",
    "plt.figure(figsize=(6, 6))\n",
    "\n",
    "# Crea el gráfico de torta\n",
    "plot = sexo_counts.plot(kind='pie', \n",
    "                              labels=None, autopct='%1.1f%%', startangle=90, colors=sns.color_palette(\"Paired\"), wedgeprops=dict(width=0.5), \n",
    "                              textprops={'fontsize': 12, 'color': 'black'}, pctdistance=0.85) \n",
    "\n",
    "# Agrega las etiquetas de leyenda\n",
    "plt.legend(labels=sexo_counts.index, loc=\"best\")\n",
    "\n",
    "# Añade un título\n",
    "plt.title('Sexo de la victima', fontsize=16)\n",
    "\n",
    "# Elimina el eje y\n",
    "plt.ylabel(None)\n",
    "\n",
    "# Muestra el gráfico\n",
    "plt.show()"
   ]
  },
  {
   "cell_type": "markdown",
   "metadata": {},
   "source": [
    "Más del 75% de las victimas pertenecen al sexo masculino."
   ]
  },
  {
   "cell_type": "code",
   "execution_count": 64,
   "metadata": {},
   "outputs": [
    {
     "data": {
      "image/png": "[encoded data removed]",
      "text/plain": [
       "<Figure size 1800x600 with 1 Axes>"
      ]
     },
     "metadata": {},
     "output_type": "display_data"
    }
   ],
   "source": [
    "# Grafico distribución de edades de victimas por tipo de vehículo y sexo\n",
    "# Configura el estilo de Seaborn\n",
    "sns.set(style=\"whitegrid\")\n",
    "\n",
    "# Crea el violin plot\n",
    "plt.figure(figsize=(18, 6))\n",
    "sns.boxplot(x=\"VICTIMA\", y=\"EDAD\", data=df_victimas, palette=\"Paired\", hue=\"SEXO\")\n",
    "plt.title('Distribución de edades de víctimas por tipo de vehiculo y sexo', fontsize=16)\n",
    "plt.xlabel('Tipo de vehiculo que ocupaba la victima',fontsize=12)\n",
    "plt.ylabel('Edad',fontsize=12)\n",
    "plt.show()"
   ]
  },
  {
   "cell_type": "markdown",
   "metadata": {},
   "source": [
    "- La mitad de las victimas de sexo masculino que se desplazaban en moto, auto, bicicleta o vehículos de emergencia tenian alrededor 30 años.\n",
    "- La totalidad de las victimas de sexo femenino que se dessplazaban como pasajeros de transporte publico pertenecian a la tercera edad.\n",
    "- Las victimas que se desplazaban como peatones son las que tienen el rango de edad más amplio, mientras las que se desplazaban en vehículos de emergencias presentan el rango de edad mas corto."
   ]
  },
  {
   "cell_type": "markdown",
   "metadata": {},
   "source": [
    "## Archivos limpios"
   ]
  },
  {
   "cell_type": "markdown",
   "metadata": {},
   "source": [
    "Se generan archivos con los datos procesados para análisis y manipulación en otros programas."
   ]
  },
  {
   "cell_type": "code",
   "execution_count": 72,
   "metadata": {},
   "outputs": [],
   "source": [
    "# Genera nuevo archivo a partir de un dataframe\n",
    "df_hechos.to_csv('C:/Users/57315/Documentos/Phyton_Henry/proyecto_data/datasets_limpios/df_hechos_clean.csv', index=False)\n",
    "df_victimas.to_csv('C:/Users/57315/Documentos/Phyton_Henry/proyecto_data/datasets_limpios/df_victimas_clean.csv', index=False)"
   ]
  }
 ],
 "metadata": {
  "kernelspec": {
   "display_name": "Python 3",
   "language": "python",
   "name": "python3"
  },
  "language_info": {
   "codemirror_mode": {
    "name": "ipython",
    "version": 3
   },
   "file_extension": ".py",
   "mimetype": "text/x-python",
   "name": "python",
   "nbconvert_exporter": "python",
   "pygments_lexer": "ipython3",
   "version": "3.10.4"
  }
 },
 "nbformat": 4,
 "nbformat_minor": 2
}
